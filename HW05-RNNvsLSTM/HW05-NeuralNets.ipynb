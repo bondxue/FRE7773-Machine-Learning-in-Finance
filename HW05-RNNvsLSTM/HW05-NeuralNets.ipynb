{
 "cells": [
  {
   "cell_type": "markdown",
   "metadata": {},
   "source": [
    "# Homework 5\n",
    "#### Assigned: 2019-04-25\n",
    "#### Due EOD: 2019-05-02\n",
    "\n",
    "Based on Lecture 12\n",
    "+ The student fills in the <...> fields.  \n",
    "+ The student can create as many new cells as necessary in the solution sections."
   ]
  },
  {
   "cell_type": "markdown",
   "metadata": {},
   "source": [
    "**Make sure you have activated the correct python envorinment**"
   ]
  },
  {
   "cell_type": "markdown",
   "metadata": {},
   "source": [
    "#### Name:  Mengheng Xue\n",
    "#### NetID: mx586"
   ]
  },
  {
   "cell_type": "markdown",
   "metadata": {},
   "source": [
    "## Problem 1 (20 points)"
   ]
  },
  {
   "cell_type": "markdown",
   "metadata": {},
   "source": [
    "A CNN has the following structure:  \n",
    "\n",
    "Conv2D_Layer -> Pooling_Layer -> Flattening_Layer -> Dense_Layer\n",
    "\n",
    "+ input shape (size of the image): $M_1 \\times M_2$\n",
    "+ conv2d kernel with bias\n",
    "+ conv2d kernel shape: $K_1 \\times K_2$  \n",
    "+ conv2d padding: same  \n",
    "+ conv2d stride in both dimensions: 1  \n",
    "+ conv2d filters (number of kernels): $F$\n",
    "+ pooling layer size: $P_1 \\times P_2$ (assume $P_{1,2}$ is a divisor of $M_{1,2}$) \n",
    "+ pooling padding: same\n",
    "+ pooling stride in both dimensions: 1\n",
    "+ flattening layer  \n",
    "+ dense layer with bias\n",
    "+ dense layer units (number of nodes): $H$\n",
    "\n",
    "Write down the expression that gives the total number of parameters to be fitted $Q$ in terms of the above values."
   ]
  },
  {
   "cell_type": "markdown",
   "metadata": {},
   "source": [
    "## Solution 1"
   ]
  },
  {
   "cell_type": "markdown",
   "metadata": {},
   "source": [
    "<...>"
   ]
  },
  {
   "cell_type": "markdown",
   "metadata": {},
   "source": [
    "## Problem 2 (80 points) \n",
    "\n",
    "Use LSTM to analyze S&P 500 returns over the period 2004-2006.\n",
    "\n",
    "The data file \"stock-treasury-2004_2006.csv\", to be found in the \"Data\" folder, contains the following:  \n",
    "+ TREAS_3M: the yield of the 3-month treasury note in percent (i.e 2.1 means 2.1%)\n",
    "+ Adjusted close price of ten major stocks: GM, F, UTX, CAT, MRK, PFE, IBM, MSFT, C, XOM\n",
    "+ SP: The S&P 500 equity index level at the close of the trading day  \n",
    "\n",
    "**Do the following:**  \n",
    "\n",
    "Use the pandas read_csv function to read the Date and SP columns in a data frame called \"sp_df\".  \n",
    "Rename the \"SP\" column into \"ClosePx\" in the same read_csv call.  \n",
    "Compute the close-to-close index returns as:  $r_t = P_{t+1}/P_t - 1$ and add them as a new column \"DailyRet\".  \n",
    "It is recommended to express all daily returns in basis points (10,000 bps = 100% = 1)\n",
    "\n",
    "We want to train an RNN that looks back $M$ days and forecasts forward $N$ days.  \n",
    "Therefore the RNN will use return sequences of size $M$, and targets of size $N$.  \n",
    "\n",
    "Reformat the return data suitable for RNN processing as follows.  \n",
    "From the \"DailyRet\" column of \"sp_df\", create a data input matrix $X$ containing rows as below:    \n",
    "$$r_0, r_1, r_2, \\ldots, r_{M-1}$$  \n",
    "$$r_1, r_2, r_3, \\ldots, r_{M}$$  \n",
    "$$r_2, r_3, r_4, \\ldots, r_{M+1}$$  \n",
    "$$\\ldots$$\n",
    "From the \"DailyRet\" column of \"sp_df\", create also a target matrix $y$ containing rows as below:\n",
    "$$ r_{M}, r_{M+1}, \\ldots, r_{M+N-1}$$\n",
    "$$ r_{M+1}, r_{M+2}, \\ldots, r_{M+N}$$\n",
    "$$ r_{M+2}, r_{M+3}, \\ldots, r_{M+N+1}$$\n",
    "$$\\ldots$$\n",
    "\n",
    "Set $M=16$ and $N=4$.  \n",
    "Build an RNN with two LSTM cells and train it on the first 607 sequences.  \n",
    "This means that the training set contains returns with the latest date of 2016-05-31.    \n",
    "Use the remaining returns for out-of-sample testing.  \n",
    "This is a regression task, so train the network using mean_squared_error loss.  \n",
    "When connecting the two LSTMs, make sure you set the parameter return_sequences=True on the first LSTM, \n",
    "so that the second can see the sequences.\n",
    "\n",
    "Compute the out-of-sample actual and predicted 2-day, 3-day, ..., N-day return, by summing 1-day forward returns up to this horizon.  \n",
    "N-day return is the return from today's close to the close of the N-th day forward from today.  \n",
    "Calculate and report the RMSE and the correlation between actual and predicted 1-day, 2-day, ..., N-day returns.  \n",
    "Plot the actual and predicted returns in the out-of-sample part.  \n",
    "What do you conclude regarding the quality of the forecasts?\n"
   ]
  },
  {
   "cell_type": "markdown",
   "metadata": {},
   "source": [
    "## Solution 2"
   ]
  },
  {
   "cell_type": "markdown",
   "metadata": {},
   "source": [
    "### data preprocessing"
   ]
  },
  {
   "cell_type": "code",
   "execution_count": 1,
   "metadata": {},
   "outputs": [
    {
     "data": {
      "text/html": [
       "<div>\n",
       "<style scoped>\n",
       "    .dataframe tbody tr th:only-of-type {\n",
       "        vertical-align: middle;\n",
       "    }\n",
       "\n",
       "    .dataframe tbody tr th {\n",
       "        vertical-align: top;\n",
       "    }\n",
       "\n",
       "    .dataframe thead th {\n",
       "        text-align: right;\n",
       "    }\n",
       "</style>\n",
       "<table border=\"1\" class=\"dataframe\">\n",
       "  <thead>\n",
       "    <tr style=\"text-align: right;\">\n",
       "      <th></th>\n",
       "      <th>Date</th>\n",
       "      <th>TREAS_3M</th>\n",
       "      <th>GM</th>\n",
       "      <th>F</th>\n",
       "      <th>UTX</th>\n",
       "      <th>CAT</th>\n",
       "      <th>MRK</th>\n",
       "      <th>PFE</th>\n",
       "      <th>IBM</th>\n",
       "      <th>MSFT</th>\n",
       "      <th>C</th>\n",
       "      <th>XOM</th>\n",
       "      <th>SP</th>\n",
       "    </tr>\n",
       "  </thead>\n",
       "  <tbody>\n",
       "    <tr>\n",
       "      <th>0</th>\n",
       "      <td>02-Jan-04</td>\n",
       "      <td>0.91</td>\n",
       "      <td>46.72</td>\n",
       "      <td>14.55</td>\n",
       "      <td>45.13</td>\n",
       "      <td>39.35</td>\n",
       "      <td>41.76</td>\n",
       "      <td>32.85</td>\n",
       "      <td>89.10</td>\n",
       "      <td>24.00</td>\n",
       "      <td>44.17</td>\n",
       "      <td>38.31</td>\n",
       "      <td>1108.48</td>\n",
       "    </tr>\n",
       "    <tr>\n",
       "      <th>1</th>\n",
       "      <td>05-Jan-04</td>\n",
       "      <td>0.90</td>\n",
       "      <td>47.55</td>\n",
       "      <td>15.02</td>\n",
       "      <td>45.40</td>\n",
       "      <td>40.42</td>\n",
       "      <td>42.60</td>\n",
       "      <td>33.73</td>\n",
       "      <td>90.56</td>\n",
       "      <td>24.60</td>\n",
       "      <td>44.88</td>\n",
       "      <td>39.20</td>\n",
       "      <td>1122.22</td>\n",
       "    </tr>\n",
       "    <tr>\n",
       "      <th>2</th>\n",
       "      <td>06-Jan-04</td>\n",
       "      <td>0.90</td>\n",
       "      <td>47.26</td>\n",
       "      <td>14.97</td>\n",
       "      <td>45.29</td>\n",
       "      <td>39.70</td>\n",
       "      <td>42.40</td>\n",
       "      <td>33.71</td>\n",
       "      <td>90.57</td>\n",
       "      <td>24.69</td>\n",
       "      <td>44.93</td>\n",
       "      <td>38.94</td>\n",
       "      <td>1123.67</td>\n",
       "    </tr>\n",
       "    <tr>\n",
       "      <th>3</th>\n",
       "      <td>07-Jan-04</td>\n",
       "      <td>0.89</td>\n",
       "      <td>47.91</td>\n",
       "      <td>15.38</td>\n",
       "      <td>45.43</td>\n",
       "      <td>39.27</td>\n",
       "      <td>42.45</td>\n",
       "      <td>34.00</td>\n",
       "      <td>90.30</td>\n",
       "      <td>24.66</td>\n",
       "      <td>44.99</td>\n",
       "      <td>38.65</td>\n",
       "      <td>1126.33</td>\n",
       "    </tr>\n",
       "    <tr>\n",
       "      <th>4</th>\n",
       "      <td>08-Jan-04</td>\n",
       "      <td>0.86</td>\n",
       "      <td>47.90</td>\n",
       "      <td>15.48</td>\n",
       "      <td>45.38</td>\n",
       "      <td>38.97</td>\n",
       "      <td>42.67</td>\n",
       "      <td>33.68</td>\n",
       "      <td>90.55</td>\n",
       "      <td>24.62</td>\n",
       "      <td>45.18</td>\n",
       "      <td>38.56</td>\n",
       "      <td>1131.92</td>\n",
       "    </tr>\n",
       "  </tbody>\n",
       "</table>\n",
       "</div>"
      ],
      "text/plain": [
       "        Date  TREAS_3M     GM      F    UTX    CAT    MRK    PFE    IBM  \\\n",
       "0  02-Jan-04      0.91  46.72  14.55  45.13  39.35  41.76  32.85  89.10   \n",
       "1  05-Jan-04      0.90  47.55  15.02  45.40  40.42  42.60  33.73  90.56   \n",
       "2  06-Jan-04      0.90  47.26  14.97  45.29  39.70  42.40  33.71  90.57   \n",
       "3  07-Jan-04      0.89  47.91  15.38  45.43  39.27  42.45  34.00  90.30   \n",
       "4  08-Jan-04      0.86  47.90  15.48  45.38  38.97  42.67  33.68  90.55   \n",
       "\n",
       "    MSFT      C    XOM       SP  \n",
       "0  24.00  44.17  38.31  1108.48  \n",
       "1  24.60  44.88  39.20  1122.22  \n",
       "2  24.69  44.93  38.94  1123.67  \n",
       "3  24.66  44.99  38.65  1126.33  \n",
       "4  24.62  45.18  38.56  1131.92  "
      ]
     },
     "execution_count": 1,
     "metadata": {},
     "output_type": "execute_result"
    }
   ],
   "source": [
    "# import libraries \n",
    "import pandas as pd\n",
    "import numpy as np\n",
    "import matplotlib.pyplot as plt\n",
    "\n",
    "# import the dataset  \n",
    "dataset = pd.read_csv('stock-treasury-2004_2006.csv')\n",
    "dataset.head()"
   ]
  },
  {
   "cell_type": "code",
   "execution_count": 2,
   "metadata": {
    "scrolled": true
   },
   "outputs": [
    {
     "data": {
      "text/html": [
       "<div>\n",
       "<style scoped>\n",
       "    .dataframe tbody tr th:only-of-type {\n",
       "        vertical-align: middle;\n",
       "    }\n",
       "\n",
       "    .dataframe tbody tr th {\n",
       "        vertical-align: top;\n",
       "    }\n",
       "\n",
       "    .dataframe thead th {\n",
       "        text-align: right;\n",
       "    }\n",
       "</style>\n",
       "<table border=\"1\" class=\"dataframe\">\n",
       "  <thead>\n",
       "    <tr style=\"text-align: right;\">\n",
       "      <th></th>\n",
       "      <th>Date</th>\n",
       "      <th>SP</th>\n",
       "      <th>DailyRet</th>\n",
       "    </tr>\n",
       "  </thead>\n",
       "  <tbody>\n",
       "    <tr>\n",
       "      <th>1</th>\n",
       "      <td>05-Jan-04</td>\n",
       "      <td>1122.22</td>\n",
       "      <td>123.953522</td>\n",
       "    </tr>\n",
       "    <tr>\n",
       "      <th>2</th>\n",
       "      <td>06-Jan-04</td>\n",
       "      <td>1123.67</td>\n",
       "      <td>12.920818</td>\n",
       "    </tr>\n",
       "    <tr>\n",
       "      <th>3</th>\n",
       "      <td>07-Jan-04</td>\n",
       "      <td>1126.33</td>\n",
       "      <td>23.672431</td>\n",
       "    </tr>\n",
       "    <tr>\n",
       "      <th>4</th>\n",
       "      <td>08-Jan-04</td>\n",
       "      <td>1131.92</td>\n",
       "      <td>49.630215</td>\n",
       "    </tr>\n",
       "    <tr>\n",
       "      <th>5</th>\n",
       "      <td>09-Jan-04</td>\n",
       "      <td>1121.86</td>\n",
       "      <td>-88.875539</td>\n",
       "    </tr>\n",
       "    <tr>\n",
       "      <th>6</th>\n",
       "      <td>12-Jan-04</td>\n",
       "      <td>1127.23</td>\n",
       "      <td>47.866935</td>\n",
       "    </tr>\n",
       "    <tr>\n",
       "      <th>7</th>\n",
       "      <td>13-Jan-04</td>\n",
       "      <td>1121.22</td>\n",
       "      <td>-53.316537</td>\n",
       "    </tr>\n",
       "    <tr>\n",
       "      <th>8</th>\n",
       "      <td>14-Jan-04</td>\n",
       "      <td>1130.52</td>\n",
       "      <td>82.945363</td>\n",
       "    </tr>\n",
       "    <tr>\n",
       "      <th>9</th>\n",
       "      <td>15-Jan-04</td>\n",
       "      <td>1132.05</td>\n",
       "      <td>13.533595</td>\n",
       "    </tr>\n",
       "    <tr>\n",
       "      <th>10</th>\n",
       "      <td>16-Jan-04</td>\n",
       "      <td>1139.83</td>\n",
       "      <td>68.724880</td>\n",
       "    </tr>\n",
       "    <tr>\n",
       "      <th>11</th>\n",
       "      <td>20-Jan-04</td>\n",
       "      <td>1138.77</td>\n",
       "      <td>-9.299632</td>\n",
       "    </tr>\n",
       "    <tr>\n",
       "      <th>12</th>\n",
       "      <td>21-Jan-04</td>\n",
       "      <td>1147.62</td>\n",
       "      <td>77.715430</td>\n",
       "    </tr>\n",
       "    <tr>\n",
       "      <th>13</th>\n",
       "      <td>22-Jan-04</td>\n",
       "      <td>1143.94</td>\n",
       "      <td>-32.066363</td>\n",
       "    </tr>\n",
       "    <tr>\n",
       "      <th>14</th>\n",
       "      <td>23-Jan-04</td>\n",
       "      <td>1141.55</td>\n",
       "      <td>-20.892704</td>\n",
       "    </tr>\n",
       "    <tr>\n",
       "      <th>15</th>\n",
       "      <td>26-Jan-04</td>\n",
       "      <td>1155.37</td>\n",
       "      <td>121.063466</td>\n",
       "    </tr>\n",
       "    <tr>\n",
       "      <th>16</th>\n",
       "      <td>27-Jan-04</td>\n",
       "      <td>1144.05</td>\n",
       "      <td>-97.977271</td>\n",
       "    </tr>\n",
       "    <tr>\n",
       "      <th>17</th>\n",
       "      <td>28-Jan-04</td>\n",
       "      <td>1128.48</td>\n",
       "      <td>-136.095450</td>\n",
       "    </tr>\n",
       "    <tr>\n",
       "      <th>18</th>\n",
       "      <td>29-Jan-04</td>\n",
       "      <td>1134.11</td>\n",
       "      <td>49.890118</td>\n",
       "    </tr>\n",
       "    <tr>\n",
       "      <th>19</th>\n",
       "      <td>30-Jan-04</td>\n",
       "      <td>1131.13</td>\n",
       "      <td>-26.276111</td>\n",
       "    </tr>\n",
       "    <tr>\n",
       "      <th>20</th>\n",
       "      <td>02-Feb-04</td>\n",
       "      <td>1135.26</td>\n",
       "      <td>36.512160</td>\n",
       "    </tr>\n",
       "  </tbody>\n",
       "</table>\n",
       "</div>"
      ],
      "text/plain": [
       "         Date       SP    DailyRet\n",
       "1   05-Jan-04  1122.22  123.953522\n",
       "2   06-Jan-04  1123.67   12.920818\n",
       "3   07-Jan-04  1126.33   23.672431\n",
       "4   08-Jan-04  1131.92   49.630215\n",
       "5   09-Jan-04  1121.86  -88.875539\n",
       "6   12-Jan-04  1127.23   47.866935\n",
       "7   13-Jan-04  1121.22  -53.316537\n",
       "8   14-Jan-04  1130.52   82.945363\n",
       "9   15-Jan-04  1132.05   13.533595\n",
       "10  16-Jan-04  1139.83   68.724880\n",
       "11  20-Jan-04  1138.77   -9.299632\n",
       "12  21-Jan-04  1147.62   77.715430\n",
       "13  22-Jan-04  1143.94  -32.066363\n",
       "14  23-Jan-04  1141.55  -20.892704\n",
       "15  26-Jan-04  1155.37  121.063466\n",
       "16  27-Jan-04  1144.05  -97.977271\n",
       "17  28-Jan-04  1128.48 -136.095450\n",
       "18  29-Jan-04  1134.11   49.890118\n",
       "19  30-Jan-04  1131.13  -26.276111\n",
       "20  02-Feb-04  1135.26   36.512160"
      ]
     },
     "execution_count": 2,
     "metadata": {},
     "output_type": "execute_result"
    }
   ],
   "source": [
    "sp_df = dataset.loc[:, ['Date', 'SP']] # create sp_df \n",
    "sp = sp_df.loc[:, 'SP'].values\n",
    "dr = [(sp[i+1] / sp[i] -1)*10000 for i in range(len(sp)-1)]  # daily return calculation \n",
    "sp_df.drop(sp_df.index[0], inplace=True) # remove first row \n",
    "sp_df['DailyRet'] = dr\n",
    "data_raw = sp_df.iloc[:, 2:3].values\n",
    "sp_df.head(20)"
   ]
  },
  {
   "cell_type": "code",
   "execution_count": 3,
   "metadata": {},
   "outputs": [
    {
     "name": "stdout",
     "output_type": "stream",
     "text": [
      "Number of entries (training set, test set): (607, 65)\n",
      "Original training data shape:\n",
      "(588, 16)\n",
      "(588, 4)\n",
      "New training data shape:\n",
      "(588, 16, 1)\n"
     ]
    }
   ],
   "source": [
    "# Feature Scaling\n",
    "from sklearn.preprocessing import MinMaxScaler\n",
    "scaler = MinMaxScaler(feature_range = (0, 1))\n",
    "dataset = scaler.fit_transform(data_raw)\n",
    "\n",
    "train_size = 607\n",
    "test_size = len(dataset) - train_size\n",
    "train, test = dataset[0:train_size, :], dataset[train_size:len(dataset), :]\n",
    "print(\"Number of entries (training set, test set): \" + str((len(train), len(test))))\n",
    "\n",
    "# function to create train and test set\n",
    "\n",
    "\n",
    "def create_dataset(dataset, train_window_size=16, test_window_size=4):\n",
    "    data_X, data_Y = [], []\n",
    "    for i in range(len(dataset) - train_window_size-test_window_size + 1):\n",
    "        a = dataset[i:(i + train_window_size), 0]\n",
    "        b = dataset[(i+train_window_size):(i+train_window_size+test_window_size), 0]\n",
    "        data_X.append(a)\n",
    "        data_Y.append(b)\n",
    "    return(np.array(data_X), np.array(data_Y))\n",
    "\n",
    "\n",
    "train_X, train_y = create_dataset(train)\n",
    "test_X, test_y = create_dataset(test)\n",
    "print(\"Original training data shape:\")\n",
    "print(train_X.shape)\n",
    "print(train_y.shape)\n",
    "\n",
    "# Reshape the input data into appropriate form for Keras.\n",
    "train_X = np.reshape(train_X, (train_X.shape[0], train_X.shape[1], 1))\n",
    "test_X = np.reshape(test_X, (test_X.shape[0], test_X.shape[1], 1))\n",
    "print(\"New training data shape:\")\n",
    "print(train_X.shape)\n"
   ]
  },
  {
   "cell_type": "markdown",
   "metadata": {},
   "source": [
    "### build LSTM"
   ]
  },
  {
   "cell_type": "code",
   "execution_count": 4,
   "metadata": {},
   "outputs": [
    {
     "name": "stderr",
     "output_type": "stream",
     "text": [
      "Using TensorFlow backend.\n"
     ]
    }
   ],
   "source": [
    "# Importing the Keras libraries and packages\n",
    "from keras.models import Sequential\n",
    "from keras.layers import Dense\n",
    "from keras.layers import LSTM\n",
    "from keras.layers import Dropout\n",
    "from keras.callbacks import EarlyStopping\n",
    "from sklearn.metrics import mean_squared_error\n",
    "import math"
   ]
  },
  {
   "cell_type": "code",
   "execution_count": 5,
   "metadata": {},
   "outputs": [
    {
     "name": "stdout",
     "output_type": "stream",
     "text": [
      "_________________________________________________________________\n",
      "Layer (type)                 Output Shape              Param #   \n",
      "=================================================================\n",
      "lstm_1 (LSTM)                (None, 16, 80)            26240     \n",
      "_________________________________________________________________\n",
      "dropout_1 (Dropout)          (None, 16, 80)            0         \n",
      "_________________________________________________________________\n",
      "lstm_2 (LSTM)                (None, 80)                51520     \n",
      "_________________________________________________________________\n",
      "dropout_2 (Dropout)          (None, 80)                0         \n",
      "_________________________________________________________________\n",
      "dense_1 (Dense)              (None, 6)                 486       \n",
      "_________________________________________________________________\n",
      "dense_2 (Dense)              (None, 6)                 42        \n",
      "_________________________________________________________________\n",
      "dense_3 (Dense)              (None, 4)                 28        \n",
      "=================================================================\n",
      "Total params: 78,316\n",
      "Trainable params: 78,316\n",
      "Non-trainable params: 0\n",
      "_________________________________________________________________\n"
     ]
    }
   ],
   "source": [
    "def build_model(window_size = 16):\n",
    "    model = Sequential() \n",
    "    model.add(LSTM(input_shape = (window_size, 1), units=80, return_sequences = True, activation='relu')) # add first LSTM layer \n",
    "    model.add(Dropout(0.2))# dropout regulization to avoid overfitting\n",
    "    model.add(LSTM(input_shape=(window_size, 1), units=80, return_sequences = False, activation='relu')) # add second LSTM layer \n",
    "    model.add(Dropout(0.2))\n",
    "    model.add(Dense(units = 6, kernel_initializer = 'uniform', activation = 'relu', input_dim = 80))\n",
    "    model.add(Dense(units = 6, kernel_initializer = 'uniform', activation = 'relu'))\n",
    "    model.add(Dense(units = 4, kernel_initializer = 'uniform', activation = 'linear'))\n",
    "    model.summary()\n",
    "    return(model)\n",
    "\n",
    "model = build_model()"
   ]
  },
  {
   "cell_type": "code",
   "execution_count": 6,
   "metadata": {
    "scrolled": false
   },
   "outputs": [
    {
     "name": "stdout",
     "output_type": "stream",
     "text": [
      "Train on 529 samples, validate on 59 samples\n",
      "Epoch 1/100\n",
      "529/529 [==============================] - 2s 3ms/step - loss: 0.2354 - mean_absolute_error: 0.4553 - val_loss: 0.2157 - val_mean_absolute_error: 0.4371\n",
      "Epoch 2/100\n",
      "529/529 [==============================] - 0s 460us/step - loss: 0.1768 - mean_absolute_error: 0.3776 - val_loss: 0.1585 - val_mean_absolute_error: 0.3679\n",
      "Epoch 3/100\n",
      "529/529 [==============================] - 0s 413us/step - loss: 0.0760 - mean_absolute_error: 0.2236 - val_loss: 0.0290 - val_mean_absolute_error: 0.1322\n",
      "Epoch 4/100\n",
      "529/529 [==============================] - 0s 413us/step - loss: 0.0537 - mean_absolute_error: 0.1867 - val_loss: 0.0348 - val_mean_absolute_error: 0.1414\n",
      "Epoch 5/100\n",
      "529/529 [==============================] - 0s 414us/step - loss: 0.0464 - mean_absolute_error: 0.1731 - val_loss: 0.0373 - val_mean_absolute_error: 0.1490\n",
      "Epoch 6/100\n",
      "529/529 [==============================] - 0s 411us/step - loss: 0.0517 - mean_absolute_error: 0.1840 - val_loss: 0.0717 - val_mean_absolute_error: 0.2351\n"
     ]
    }
   ],
   "source": [
    "# compile, fit and evaluate\n",
    "def fit_model(model, train_X, train_y):\n",
    "    model.compile(loss='mean_squared_error', optimizer='RMSprop', metrics=['mean_absolute_error']) \n",
    "    es = EarlyStopping(monitor='val_loss', min_delta=0, patience=3, mode='auto', baseline=None)\n",
    "    model.fit( train_X, train_y, batch_size=50, epochs=100, validation_split=0.1, callbacks=[es], verbose=1)\n",
    "    return model\n",
    "    \n",
    "model_fit = fit_model(model, train_X, train_y)    \n",
    "\n",
    "# pred = scaler.inverse_transform(model.predict(test_X))\n",
    "# pred[:, 0]"
   ]
  },
  {
   "cell_type": "code",
   "execution_count": 7,
   "metadata": {},
   "outputs": [
    {
     "data": {
      "text/plain": [
       "array([-111.93745 , -115.540924, -102.71196 , -102.644806,  -97.63906 ,\n",
       "        -99.28352 ,  -95.028786,  -82.40076 ,  -68.34932 ,  -71.40321 ,\n",
       "        -92.91259 ,  -88.137314,  -76.84011 ,  -74.28999 ,  -83.079636,\n",
       "        -75.9422  ,  -73.2809  ,  -77.53443 ,  -66.358185,  -71.98479 ,\n",
       "        -97.149254,  -96.632225, -106.035164, -101.00438 , -104.41552 ,\n",
       "        -98.89171 , -100.33475 , -103.905106,  -93.49621 ,  -78.943   ,\n",
       "        -70.89201 ,  -65.95369 ,  -64.48391 ,  -83.145546,  -72.2321  ,\n",
       "        -61.579647,  -79.14251 ,  -85.37229 ,  -84.42513 ,  -79.21843 ,\n",
       "        -91.92415 ,  -90.08325 ,  -84.57922 ,  -88.7844  ,  -89.934166,\n",
       "        -87.89035 ], dtype=float32)"
      ]
     },
     "execution_count": 7,
     "metadata": {},
     "output_type": "execute_result"
    }
   ],
   "source": [
    "def predit_model(model_fit, test_X, test_y):\n",
    "    pred = scaler.inverse_transform(model_fit.predict(test_X))\n",
    "    actual = scaler.inverse_transform((test_y))\n",
    "    return pred, actual \n",
    "\n",
    "pred, actual = predit_model(model_fit, test_X, test_y)\n",
    "oneday_pred_return = pred[:,0]\n",
    "oneday_act_return = actual[:,0]\n",
    "pred[:, 0]\n"
   ]
  },
  {
   "cell_type": "code",
   "execution_count": 8,
   "metadata": {},
   "outputs": [
    {
     "data": {
      "image/png": "[encoded data removed]",
      "text/plain": [
       "<Figure size 1440x720 with 1 Axes>"
      ]
     },
     "metadata": {},
     "output_type": "display_data"
    }
   ],
   "source": [
    "# Create the plot.\n",
    "plt.style.use('seaborn')\n",
    "plt.rcParams['figure.figsize'] = (20, 10)\n",
    "plt.rcParams['legend.fontsize'] = 'x-large'\n",
    "plt.rcParams['axes.labelsize'] = 'x-large'\n",
    "plt.rcParams['axes.titlesize'] = 'x-large'\n",
    "plt.rcParams['xtick.labelsize'] = 'x-large'\n",
    "plt.rcParams['ytick.labelsize'] = 'x-large'\n",
    "\n",
    "\n",
    "# Visualising the results\n",
    "plt.plot(oneday_act_return, color = 'red', label = 'real one day return')\n",
    "plt.plot(oneday_pred_return, color = 'blue', label = 'predicted one day return')\n",
    "plt.title('one day return preditcion')\n",
    "plt.xlabel('Time')\n",
    "plt.ylabel('one day return')\n",
    "plt.legend()\n",
    "plt.show()"
   ]
  },
  {
   "cell_type": "code",
   "execution_count": null,
   "metadata": {},
   "outputs": [],
   "source": [
    "def predict_and_score(model, X, Y):\n",
    "    # Make predictions on the original scale of the data.\n",
    "    pred = scaler.inverse_transform(model.predict(X))\n",
    "    # Prepare Y data to also be on the original scale for interpretability.\n",
    "    orig_data = scaler.inverse_transform((Y))\n",
    "    # Calculate RMSE.\n",
    "    score = math.sqrt(mean_squared_error(orig_data[0], pred[:, 0]))\n",
    "    return(score, pred)\n",
    "\n",
    "rmse_train, train_predict = predict_and_score(model_fit, train_X, train_y)\n",
    "# rmse_test, test_predict = predict_and_score(model_fit, test_X, test_y)\n",
    "\n",
    "# print(\"Training data score: %.2f RMSE\" % rmse_train)\n",
    "# print(\"Test data score: %.2f RMSE\" % rmse_test)"
   ]
  },
  {
   "cell_type": "code",
   "execution_count": null,
   "metadata": {},
   "outputs": [],
   "source": []
  }
 ],
 "metadata": {
  "anaconda-cloud": {},
  "kernelspec": {
   "display_name": "Python 3",
   "language": "python",
   "name": "python3"
  },
  "language_info": {
   "codemirror_mode": {
    "name": "ipython",
    "version": 3
   },
   "file_extension": ".py",
   "mimetype": "text/x-python",
   "name": "python",
   "nbconvert_exporter": "python",
   "pygments_lexer": "ipython3",
   "version": "3.6.7"
  },
  "varInspector": {
   "cols": {
    "lenName": 16,
    "lenType": 16,
    "lenVar": 40
   },
   "kernels_config": {
    "python": {
     "delete_cmd_postfix": "",
     "delete_cmd_prefix": "del ",
     "library": "var_list.py",
     "varRefreshCmd": "print(var_dic_list())"
    },
    "r": {
     "delete_cmd_postfix": ") ",
     "delete_cmd_prefix": "rm(",
     "library": "var_list.r",
     "varRefreshCmd": "cat(var_dic_list()) "
    }
   },
   "types_to_exclude": [
    "module",
    "function",
    "builtin_function_or_method",
    "instance",
    "_Feature"
   ],
   "window_display": false
  }
 },
 "nbformat": 4,
 "nbformat_minor": 2
}
