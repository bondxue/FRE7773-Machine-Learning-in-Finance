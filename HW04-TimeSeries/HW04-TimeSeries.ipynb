{
 "cells": [
  {
   "cell_type": "markdown",
   "metadata": {},
   "source": [
    "# Homework 4\n",
    "#### Assigned: 2019-04-04\n",
    "#### Due EOD: 2019-04-11\n",
    "\n",
    "Based on Lecture 9\n",
    "+ The student fills in the <...> fields.  \n",
    "+ The student can create as many new cells as necessary in the solution sections."
   ]
  },
  {
   "cell_type": "markdown",
   "metadata": {},
   "source": [
    "*Useful LaTeX macros that save typing (click into cell to see them)*\n",
    "$\\def\\expect{\\mathbb{E}}$\n",
    "$\\def\\cov{\\mathrm{cov}}$\n",
    "$\\def\\var{\\mathrm{var}}$"
   ]
  },
  {
   "cell_type": "markdown",
   "metadata": {},
   "source": [
    "#### Name:  <...>\n",
    "#### NetID: <...>"
   ]
  },
  {
   "cell_type": "markdown",
   "metadata": {},
   "source": [
    "## Problem 1 (30 points)"
   ]
  },
  {
   "cell_type": "markdown",
   "metadata": {},
   "source": [
    "We have an AR(1) model of the form\n",
    "$$ \n",
    "x_t = \\phi_0 + \\phi_1 x_{t-1} + \\epsilon_t  \\qquad (1)\n",
    "$$ \n",
    "At all times $t$ and $s$, the white noise $\\epsilon_t$ has the properties\n",
    "$$\n",
    "\\expect (\\epsilon_t) = 0,  \\qquad \\cov(\\epsilon_t, \\epsilon_s) = \\sigma^2 \\delta_{t,s}  \\qquad (2)\n",
    "$$\n",
    "\n",
    "Show the following:  \n",
    "\n",
    "1. Mean $$\\expect(x_t) = \\frac{\\phi_0}{1-\\phi_1}$$\n",
    "\n",
    "2. Autocovariance $$\\gamma(h) := \\cov(x_{t+h}, x_t) = \\sigma^2\\frac{\\phi_1^h}{1-\\phi_1^2}$$\n",
    "\n",
    "3. ACF $$\\rho(h) = \\phi_1^h$$"
   ]
  },
  {
   "cell_type": "markdown",
   "metadata": {},
   "source": [
    "## Solution 1"
   ]
  },
  {
   "cell_type": "markdown",
   "metadata": {},
   "source": [
    "<...>"
   ]
  },
  {
   "cell_type": "markdown",
   "metadata": {},
   "source": [
    "## Problem 2 (70 points)"
   ]
  },
  {
   "cell_type": "markdown",
   "metadata": {},
   "source": [
    "Univariate times series modeling of the S&P 500 over the period 2004-2006.\n",
    "\n",
    "The data file \"stock-treasury-2004_2006.csv\", to be found in the \"Data\" folder, contains the following:  \n",
    "+ TREAS_3M: the yield of the 3-month treasury note in percent (i.e 2.1 means 2.1%)\n",
    "+ Adjusted close price of ten major stocks: GM, F, UTX, CAT, MRK, PFE, IBM, MSFT, C, XOM\n",
    "+ SP: The S&P 500 equity index level at the close of the trading day  \n",
    "\n",
    "**Do the following:**  \n",
    "\n",
    "Use the pandas read_csv function to read only the Date and SP columns in a data frame called sp_df.  \n",
    "Rename the \"SP\" column into \"ClosePx\" in the same read_csv call.  \n",
    "Compute the close-to-close index returns as:  $r_t = P_{t+1}/P_t - 1$ and add them as a new column \"DailyRet\".  \n",
    "It is recommended to express all daily returns in basis points (10,000 bps = 100% = 1)"
   ]
  },
  {
   "cell_type": "markdown",
   "metadata": {},
   "source": [
    "## Solution 2"
   ]
  },
  {
   "cell_type": "markdown",
   "metadata": {},
   "source": [
    "<...>"
   ]
  }
 ],
 "metadata": {
  "anaconda-cloud": {},
  "kernelspec": {
   "display_name": "Python 3",
   "language": "python",
   "name": "python3"
  },
  "language_info": {
   "codemirror_mode": {
    "name": "ipython",
    "version": 3
   },
   "file_extension": ".py",
   "mimetype": "text/x-python",
   "name": "python",
   "nbconvert_exporter": "python",
   "pygments_lexer": "ipython3",
   "version": "3.7.1"
  }
 },
 "nbformat": 4,
 "nbformat_minor": 2
}
