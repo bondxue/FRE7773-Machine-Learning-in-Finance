{
 "cells": [
  {
   "cell_type": "markdown",
   "metadata": {},
   "source": [
    "# Homework 4\n",
    "#### Assigned: 2019-04-04\n",
    "#### Due EOD: 2019-04-14\n",
    "\n",
    "Based on Lecture 9\n",
    "+ The student fills in the <...> fields.  \n",
    "+ The student can create as many new cells as necessary in the solution sections."
   ]
  },
  {
   "cell_type": "markdown",
   "metadata": {},
   "source": [
    "*Useful LaTeX macros that save typing (click into cell to see them)*\n",
    "$\\def\\expect{\\mathbb{E}}$\n",
    "$\\def\\cov{\\mathrm{Cov}}$\n",
    "$\\def\\var{\\mathrm{Var}}$"
   ]
  },
  {
   "cell_type": "markdown",
   "metadata": {},
   "source": [
    "#### Name:  Mengheng Xue\n",
    "#### NetID: mx586"
   ]
  },
  {
   "cell_type": "markdown",
   "metadata": {},
   "source": [
    "## Problem 1 (30 points)"
   ]
  },
  {
   "cell_type": "markdown",
   "metadata": {},
   "source": [
    "We have an AR(1) model of the form\n",
    "$$ \n",
    "x_t = \\phi_0 + \\phi_1 x_{t-1} + \\epsilon_t  \\qquad (1)\n",
    "$$ \n",
    "At all times $t$ and $s$, the white noise $\\epsilon_t$ has the properties\n",
    "$$\n",
    "\\expect (\\epsilon_t) = 0,  \\qquad \\cov(\\epsilon_t, \\epsilon_s) = \\sigma^2 \\delta_{t,s}  \\qquad (2)\n",
    "$$\n",
    "\n",
    "Show the following:  \n",
    "\n",
    "1. Mean $$\\expect(x_t) = \\frac{\\phi_0}{1-\\phi_1}$$\n",
    "\n",
    "2. Autocovariance $$\\gamma(h) := \\cov(x_{t+h}, x_t) = \\sigma^2\\frac{\\phi_1^h}{1-\\phi_1^2}$$\n",
    "\n",
    "3. ACF $$\\rho(h) = \\phi_1^h$$"
   ]
  },
  {
   "cell_type": "markdown",
   "metadata": {},
   "source": [
    "## Solution 1"
   ]
  },
  {
   "cell_type": "markdown",
   "metadata": {},
   "source": [
    "1. Mean:\n",
    "\\begin{align*}\n",
    "\\expect(x_t) &= \\expect(\\phi_0 +\\phi_1 x_{t-1} + \\epsilon_t) \\\\\n",
    "& = \\phi_0 + \\phi_1\\expect(x_{t-1}) + \\expect(\\epsilon_t)\\\\\n",
    "& = \\phi_0 + \\phi_1\\expect(x_{t}) & (\\text{since $X_t$ is WSS, } \\expect(x_t)= \\expect(x_{t-1}) \\text{ and } \\epsilon_t \\text{ is white noise, }\\expect(\\epsilon_t) = 0 ) \\\\\n",
    "\\end{align*}\n",
    "Therefore,  $\\expect(x_t) = \\frac{\\phi_0}{1-\\phi_1}$.\n",
    "\n",
    "2. Variance:\n",
    "\\begin{align*}\n",
    "\\var(x_t) & = \\var(\\phi_0 +\\phi_1 x_{t-1} + \\epsilon_t) \\\\\n",
    "& = \\phi_1^2 \\var(x_t) + \\sigma^2 & (\\text{since $X_t$ is WSS, } \\var(x_t)= \\var(x_{t-1}) \\text{ and } \\epsilon_t \\text{ is white noise, }\\var(\\epsilon_t) = \\sigma^2 )\\\\\n",
    "\\end{align*}\n",
    "Therefore, $\\var(x_t) = \\frac{\\sigma^2}{1-\\phi_1^2}$. Let us define $\\expect(x_t) = \\mu$. Then, we could obtain autocovariance that\n",
    "\\begin{align*}\n",
    "\\gamma(h) = \\cov(x_{t+h}, x_t) & = \\expect \\left[(x_{t+h}-\\mu)(x_t-\\mu)\\right]\\\\\n",
    "& = \\expect \\left[(\\phi_0 + \\phi_1x_{t+h-1}+\\epsilon_{t+h}-\\mu)(x_t-\\mu)\\right]\\\\\n",
    "& = \\phi_0 \\expect (x_t-\\mu) + \\phi_1\\expect[x_{t+h-1}(x_t-\\mu)] + \\expect \\left[\\epsilon_{t+h}(x_t-\\mu)\\right] - \\mu\\expect (x_t-\\mu) & (\\text{since } \\expect (x_t-\\mu)=0 \\text{ and } \\epsilon_{t+h} \\text{ indept with } x_t, \\expect(\\epsilon_{t+h})=0)\\\\\n",
    "& = \\phi_1\\expect[x_{t+h-1}(x_t-\\mu)]\\\\\n",
    "& = \\phi_1 \\gamma(h-1)\n",
    "\\end{align*}\n",
    "By recursion, we could obtain that $\\gamma(h) = \\phi_1^h\\gamma(0)$. We know that $\\gamma(0)=\\var(x_t)$, so we can obtain that\n",
    "\\begin{equation*}\n",
    "\\gamma(h) = \\sigma^2\\frac{\\phi_1^h}{1-\\phi_1^2}\\;.\n",
    "\\end{equation*}\n",
    "\n",
    "3. ACF:\n",
    "\\begin{align*}\n",
    "\\rho(h) &= \\frac{\\gamma(h)}{\\var(x_t)}\\\\\n",
    "& = \\phi_1^h\\;.\n",
    "\\end{align*}\n",
    "\n"
   ]
  },
  {
   "cell_type": "markdown",
   "metadata": {},
   "source": [
    "## Problem 2 (70 points)"
   ]
  },
  {
   "cell_type": "markdown",
   "metadata": {},
   "source": [
    "Univariate times series modeling of the S&P 500 over the period 2004-2006.\n",
    "\n",
    "The data file \"stock-treasury-2004_2006.csv\", to be found in the \"Data\" folder, contains the following:  \n",
    "+ TREAS_3M: the yield of the 3-month treasury note in percent (i.e 2.1 means 2.1%)\n",
    "+ Adjusted close price of ten major stocks: GM, F, UTX, CAT, MRK, PFE, IBM, MSFT, C, XOM\n",
    "+ SP: The S&P 500 equity index level at the close of the trading day  \n",
    "\n",
    "**Do the following:**  \n",
    "\n",
    "Use the pandas read_csv function to read only the Date and SP columns in a data frame called \"sp_df\".  \n",
    "Rename the \"SP\" column into \"ClosePx\" in the same read_csv call.  \n",
    "Compute the close-to-close index returns as:  $r_t = P_{t+1}/P_t - 1$ and add them as a new column \"DailyRet\".  \n",
    "It is recommended to express all daily returns in basis points (10,000 bps = 100% = 1)\n",
    "\n",
    "Fit ARIMA models on the DailyRet time series, up to AR order p=2, MA order q=2, and differencing order d=1.  \n",
    "You can reuse the utility function auto_arima or provide your own.  \n",
    "Display the summary of the best selected model based on the AIC criterion.  \n",
    "Plot the original returns series and the predictions of the best selected model using the model's plot_predict method.\n",
    "\n",
    "Run the Jarque-Bera normality test on the residuals of the best selected ARIMA model, and produce the qq plot of the residuals.  \n",
    "Repeat the Jarque-Bera test and the qq plot using the residuals of the white noise model ARMA(0, 0).  \n",
    "Compare the two and comment on whether they are really different.  \n"
   ]
  },
  {
   "cell_type": "markdown",
   "metadata": {},
   "source": [
    "## Solution 2"
   ]
  },
  {
   "cell_type": "markdown",
   "metadata": {},
   "source": [
    "<...>"
   ]
  }
 ],
 "metadata": {
  "anaconda-cloud": {},
  "kernelspec": {
   "display_name": "Python 3",
   "language": "python",
   "name": "python3"
  },
  "language_info": {
   "codemirror_mode": {
    "name": "ipython",
    "version": 3
   },
   "file_extension": ".py",
   "mimetype": "text/x-python",
   "name": "python",
   "nbconvert_exporter": "python",
   "pygments_lexer": "ipython3",
   "version": "3.6.7"
  }
 },
 "nbformat": 4,
 "nbformat_minor": 2
}
