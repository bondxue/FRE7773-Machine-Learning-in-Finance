{
 "cells": [
  {
   "cell_type": "markdown",
   "metadata": {},
   "source": [
    "# Bandit Examples\n",
    "\n",
    "+ Based on Lecture 13"
   ]
  },
  {
   "cell_type": "markdown",
   "metadata": {},
   "source": [
    "### Packages"
   ]
  },
  {
   "cell_type": "code",
   "execution_count": 1,
   "metadata": {
    "collapsed": true
   },
   "outputs": [],
   "source": [
    "%matplotlib inline\n",
    "# data and plotting packages\n",
    "import numpy as np\n",
    "import pandas as pd\n",
    "import matplotlib.pyplot as plt\n",
    "np.random.seed(42)\n",
    "\n",
    "# bandit components\n",
    "from bandits.bandits import FixedBandit, BernoulliBandit, NormalBandit\n",
    "from bandits.games import BanditGame, EpsilonGreedy, UCBBayesian, ThompsonBayesian\n",
    "from bandits.experiments import Experiment"
   ]
  },
  {
   "cell_type": "markdown",
   "metadata": {},
   "source": [
    "### Create and test bandits\n",
    "\n",
    "We generate three types of bandits and print their rewards.  \n",
    "Notice that besides construction, we only use methods of the base class Bandit"
   ]
  },
  {
   "cell_type": "code",
   "execution_count": 2,
   "metadata": {},
   "outputs": [
    {
     "data": {
      "text/html": [
       "<div>\n",
       "<style scoped>\n",
       "    .dataframe tbody tr th:only-of-type {\n",
       "        vertical-align: middle;\n",
       "    }\n",
       "\n",
       "    .dataframe tbody tr th {\n",
       "        vertical-align: top;\n",
       "    }\n",
       "\n",
       "    .dataframe thead th {\n",
       "        text-align: right;\n",
       "    }\n",
       "</style>\n",
       "<table border=\"1\" class=\"dataframe\">\n",
       "  <thead>\n",
       "    <tr style=\"text-align: right;\">\n",
       "      <th></th>\n",
       "      <th>Type</th>\n",
       "      <th>NumActions</th>\n",
       "      <th>BestAction</th>\n",
       "      <th>BestReward</th>\n",
       "    </tr>\n",
       "  </thead>\n",
       "  <tbody>\n",
       "    <tr>\n",
       "      <th>0</th>\n",
       "      <td>Fixed</td>\n",
       "      <td>4</td>\n",
       "      <td>0</td>\n",
       "      <td>1.2</td>\n",
       "    </tr>\n",
       "    <tr>\n",
       "      <th>1</th>\n",
       "      <td>Bernouli</td>\n",
       "      <td>4</td>\n",
       "      <td>3</td>\n",
       "      <td>0.8</td>\n",
       "    </tr>\n",
       "    <tr>\n",
       "      <th>2</th>\n",
       "      <td>Normal</td>\n",
       "      <td>4</td>\n",
       "      <td>2</td>\n",
       "      <td>1.5</td>\n",
       "    </tr>\n",
       "  </tbody>\n",
       "</table>\n",
       "</div>"
      ],
      "text/plain": [
       "       Type  NumActions  BestAction  BestReward\n",
       "0     Fixed           4           0         1.2\n",
       "1  Bernouli           4           3         0.8\n",
       "2    Normal           4           2         1.5"
      ]
     },
     "metadata": {},
     "output_type": "display_data"
    }
   ],
   "source": [
    "fixed_bandit = FixedBandit(rewards=[1.2, 0.2, 1.1, 0.4])\n",
    "bern_bandit = BernoulliBandit(probs=[0.3, 0.6, 0.5, 0.8])\n",
    "norm_bandit = NormalBandit(means=[1.0, 0.5, 1.5, 0.0], stdevs=[1.0, 2.0, 1.5, 1.0])\n",
    "\n",
    "bdf = pd.DataFrame(\n",
    "    data={'Type': ['Fixed', 'Bernouli', 'Normal'],\n",
    "          'NumActions': [fixed_bandit.n_actions, bern_bandit.n_actions, norm_bandit.n_actions],\n",
    "          'BestAction': [fixed_bandit.best_action, bern_bandit.best_action, norm_bandit.best_action],\n",
    "          'BestReward': [fixed_bandit.best_reward, bern_bandit.best_reward, norm_bandit.best_reward]})\n",
    "\n",
    "display(bdf)"
   ]
  },
  {
   "cell_type": "code",
   "execution_count": 3,
   "metadata": {},
   "outputs": [
    {
     "name": "stdout",
     "output_type": "stream",
     "text": [
      "Rewards from each lever in sequence\n",
      "Fixed: [1.2, 0.2, 1.1, 0.4]\n",
      "Bernoulli: [0, 0, 0, 1]\n",
      "Normal: [0.7658, 0.0317, 3.8688, 0.7674]\n"
     ]
    }
   ],
   "source": [
    "# pull each lever once in sequence and print the rewards\n",
    "print('Rewards from each lever in sequence')\n",
    "print('Fixed: {}'.format([fixed_bandit.get_reward(i) for i in range(fixed_bandit.n_actions)]))\n",
    "print('Bernoulli: {}'.format([bern_bandit.get_reward(i) for i in range(bern_bandit.n_actions)]))\n",
    "print('Normal: {}'.format([round(norm_bandit.get_reward(i), 4) for i in range(norm_bandit.n_actions)]))"
   ]
  },
  {
   "cell_type": "markdown",
   "metadata": {},
   "source": [
    "### Games\n",
    "\n",
    "The utility function run_game below creates a Bernoulli bandit of K arms and runs an episode of T turns.  \n",
    "Three games are set-up with $\\epsilon$-greedy 10%, Bayesian UCB and Thomson sampling policies."
   ]
  },
  {
   "cell_type": "code",
   "execution_count": 4,
   "metadata": {},
   "outputs": [],
   "source": [
    "def run_games(K, T, verbose=True):\n",
    "    \"\"\"\n",
    "    Run three games for T time steps using a randomly initialized K-armed bandit.\n",
    "    The games use EpsilonGreedySA, BayesUCB and Thompson policies\n",
    "\n",
    "    Args:\n",
    "        K (int): number of bandit arms.\n",
    "        T (int): number of time steps to play\n",
    "        verbose: flag to print summary\n",
    "    Returns:\n",
    "        dictionary of games\n",
    "    \"\"\"\n",
    "    probs = np.random.random(K)\n",
    "    b = BernoulliBandit(probs)\n",
    "\n",
    "    games = {'EpsGreedy': EpsilonGreedy(b, 0.1),\n",
    "             'BayesUCB': UCBBayesian(b),\n",
    "             'Thompson': ThompsonBayesian(b)\n",
    "            }\n",
    "\n",
    "    if verbose:\n",
    "        print (\"Randomly generated {}-armed Bernoulli bandit with reward probabilities:\\n  {}\"\n",
    "               .format(K, np.round(b.probs, 4)))\n",
    "        print (\"The best arm has index={} and probability={}\\n\".format(\n",
    "            max(range(K), key=lambda i: b.probs[i]), np.round(max(b.probs), 4)))\n",
    "        print(\"Running each game for {} steps\".format(T))\n",
    "        \n",
    "    for nam, gam in games.items():\n",
    "        gam.run(T)\n",
    "        if verbose:\n",
    "            print(\"{}\".format(nam))\n",
    "            print(\"  Cumulative reward per step {}\".format(np.round(gam.cumreward / T, 3)))\n",
    "            print(\"  Cumulative regret per step {}\".format(np.round(gam.cumregret / T, 3)))\n",
    "    return(games)"
   ]
  },
  {
   "cell_type": "code",
   "execution_count": 5,
   "metadata": {},
   "outputs": [],
   "source": [
    "games_dict = run_games(K=10, T=100, verbose=0)"
   ]
  },
  {
   "cell_type": "markdown",
   "metadata": {},
   "source": [
    "### Plot the time series of regrets per step"
   ]
  },
  {
   "cell_type": "code",
   "execution_count": 6,
   "metadata": {},
   "outputs": [
    {
     "data": {
      "image/png": "[encoded data removed]",
      "text/plain": [
       "<Figure size 720x432 with 1 Axes>"
      ]
     },
     "metadata": {
      "needs_background": "light"
     },
     "output_type": "display_data"
    }
   ],
   "source": [
    "nsteps = len(games_dict[list(games_dict.keys())[0]].regrets)\n",
    "rdf = pd.DataFrame.from_dict({'step': range(nsteps)})\n",
    "for nam, gam in games_dict.items():\n",
    "    nsteps = len(gam.regrets)\n",
    "    x = range(nsteps)\n",
    "    y = np.cumsum(gam.regrets) / np.arange(1, nsteps + 1)\n",
    "    tmp = pd.DataFrame.from_dict({'step': x, nam: y})\n",
    "    rdf = pd.merge(rdf, tmp, on=['step'])\n",
    "\n",
    "#print(df)\n",
    "\n",
    "fig = plt.figure(figsize=(10,6))\n",
    "ax = fig.add_subplot(111)\n",
    "rdf.plot(x='step', ax=ax, title='Three games with a Bernoulli Bandit');\\\n",
    "ax.set_ylabel('Regret per step');"
   ]
  },
  {
   "cell_type": "markdown",
   "metadata": {},
   "source": [
    "### Experiments  \n",
    "\n",
    "The utility function run_expriment below creates a Bernoulli bandit of K arms and runs an episode of T turns for N runs. It returns statistics "
   ]
  },
  {
   "cell_type": "code",
   "execution_count": 7,
   "metadata": {},
   "outputs": [],
   "source": [
    "def run_experiment(K, T, N, verbose=True):\n",
    "    \"\"\"\n",
    "    Run K-armed Bernouli bandit games for T time steps.\n",
    "    Repeat for N runs and collect reward and regret statistics per game and step.\n",
    "    Use the same bandit for each run and start each run with the same prior\n",
    "    \n",
    "    Args:\n",
    "        K (int): number of bandit arms.\n",
    "        T (int): number of time steps to play\n",
    "        N (int): number of runs\n",
    "    Returns: the experiment object\n",
    "    \"\"\"\n",
    "\n",
    "    probs = np.random.random(K)\n",
    "    b = BernoulliBandit(probs)\n",
    "    games = {'EpsGreedy': EpsilonGreedy(b, 0.1),\n",
    "         'BayesUCB': UCBBayesian(b),\n",
    "         'Thompson': ThompsonBayesian(b)\n",
    "        }\n",
    "\n",
    "    if verbose:\n",
    "        print (\"Randomly generated {}-armed Bernoulli bandit with reward probabilities:\\n  {}\"\n",
    "               .format(K, np.round(b.probs, 4)))\n",
    "        print (\"The best arm has index={} and probability={}\\n\".format(\n",
    "            max(range(K), key=lambda i: b.probs[i]), np.round(max(b.probs), 4)))\n",
    "\n",
    "    ex = Experiment(games)\n",
    "    if verbose:\n",
    "        print(\"Running an experiment with {} games for {} steps and {} runs\".format(len(games), T, N))\n",
    "    ex.run(T, N, verbose=verbose)\n",
    "    return(ex)"
   ]
  },
  {
   "cell_type": "code",
   "execution_count": 8,
   "metadata": {},
   "outputs": [
    {
     "name": "stdout",
     "output_type": "stream",
     "text": [
      "Randomly generated 10-armed Bernoulli bandit with reward probabilities:\n",
      "  [0.4929 0.1462 0.679  0.7938 0.8573 0.5428 0.3785 0.642  0.2056 0.1732]\n",
      "The best arm has index=4 and probability=0.8573\n",
      "\n",
      "Running an experiment with 3 games for 500 steps and 100 runs\n",
      "==> EpsGreedy for 500 steps and 100 runs. MeanRewardPerStep=0.7743. StdevRewardPerStep=0.0446\n",
      "==> BayesUCB for 500 steps and 100 runs. MeanRewardPerStep=0.8187. StdevRewardPerStep=0.0499\n",
      "==> Thompson for 500 steps and 100 runs. MeanRewardPerStep=0.7938. StdevRewardPerStep=0.0247\n"
     ]
    }
   ],
   "source": [
    "expt = run_experiment(K=10, T=500, N=100, verbose=True)"
   ]
  },
  {
   "cell_type": "code",
   "execution_count": null,
   "metadata": {},
   "outputs": [],
   "source": []
  }
 ],
 "metadata": {
  "anaconda-cloud": {},
  "kernelspec": {
   "display_name": "Python 3",
   "language": "python",
   "name": "python3"
  },
  "language_info": {
   "codemirror_mode": {
    "name": "ipython",
    "version": 3
   },
   "file_extension": ".py",
   "mimetype": "text/x-python",
   "name": "python",
   "nbconvert_exporter": "python",
   "pygments_lexer": "ipython3",
   "version": "3.6.7"
  },
  "varInspector": {
   "cols": {
    "lenName": 16,
    "lenType": 16,
    "lenVar": 40
   },
   "kernels_config": {
    "python": {
     "delete_cmd_postfix": "",
     "delete_cmd_prefix": "del ",
     "library": "var_list.py",
     "varRefreshCmd": "print(var_dic_list())"
    },
    "r": {
     "delete_cmd_postfix": ") ",
     "delete_cmd_prefix": "rm(",
     "library": "var_list.r",
     "varRefreshCmd": "cat(var_dic_list()) "
    }
   },
   "types_to_exclude": [
    "module",
    "function",
    "builtin_function_or_method",
    "instance",
    "_Feature"
   ],
   "window_display": false
  }
 },
 "nbformat": 4,
 "nbformat_minor": 2
}
