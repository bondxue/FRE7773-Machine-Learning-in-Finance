{
 "cells": [
  {
   "cell_type": "markdown",
   "metadata": {},
   "source": [
    "# NumPy Examples"
   ]
  },
  {
   "cell_type": "markdown",
   "metadata": {},
   "source": [
    "Import package and set random seed for reproducibility"
   ]
  },
  {
   "cell_type": "code",
   "execution_count": 1,
   "metadata": {},
   "outputs": [],
   "source": [
    "import numpy as np\n",
    "np.random.seed(0)"
   ]
  },
  {
   "cell_type": "markdown",
   "metadata": {},
   "source": [
    "Create random arrays and check important attributes"
   ]
  },
  {
   "cell_type": "code",
   "execution_count": 2,
   "metadata": {},
   "outputs": [
    {
     "name": "stdout",
     "output_type": "stream",
     "text": [
      "x1: dtype=int32, itemsize=4, ndim=1, shape=(12,)\n",
      "x2: dtype=int32, itemsize=4, ndim=2, shape=(4, 3)\n",
      "x3: dtype=int32, itemsize=4, ndim=3, shape=(3, 2, 2)\n"
     ]
    }
   ],
   "source": [
    "x1 = np.random.choice(12, size=12)\n",
    "x2 = np.random.choice(12, size=(4, 3))\n",
    "x3 = np.random.choice(12, size=(3, 2, 2))\n",
    "print(\"x1: dtype={0}, itemsize={1}, ndim={2}, shape={3}\".format(x1.dtype, x1.itemsize, x1.ndim, x1.shape))\n",
    "print(\"x2: dtype={0}, itemsize={1}, ndim={2}, shape={3}\".format(x2.dtype, x2.itemsize, x2.ndim, x2.shape))\n",
    "print(\"x3: dtype={0}, itemsize={1}, ndim={2}, shape={3}\".format(x3.dtype, x3.itemsize, x3.ndim, x3.shape))"
   ]
  },
  {
   "cell_type": "markdown",
   "metadata": {},
   "source": [
    "## Indexing using ranges returns views "
   ]
  },
  {
   "cell_type": "code",
   "execution_count": 4,
   "metadata": {},
   "outputs": [
    {
     "name": "stdout",
     "output_type": "stream",
     "text": [
      "original x:\n",
      "[[ 6  8  8]\n",
      " [10  1  6]\n",
      " [ 7  7  8]\n",
      " [ 1  5  9]]\n",
      "y is a view of x:\n",
      "[8 1 7 5]\n",
      "current x:\n",
      "[[  6   8   8]\n",
      " [ 10   1   6]\n",
      " [  7   7   8]\n",
      " [  1 -99   9]]\n"
     ]
    }
   ],
   "source": [
    "x = x2.copy()             # assignment is also by reference; make a copy to avoid modifying x2\n",
    "print(\"original x:\")\n",
    "print(x)\n",
    "y = x[:, 1]  # y is a view of x, so change y, x will also change \n",
    "print(\"y is a view of x:\")\n",
    "print(y)\n",
    "y[-1] = -99\n",
    "print(\"current x:\")\n",
    "print(x)"
   ]
  },
  {
   "cell_type": "markdown",
   "metadata": {},
   "source": [
    "## Reshaping returns views"
   ]
  },
  {
   "cell_type": "code",
   "execution_count": 5,
   "metadata": {},
   "outputs": [
    {
     "name": "stdout",
     "output_type": "stream",
     "text": [
      "original x:\n",
      "[[ 6  8  8]\n",
      " [10  1  6]\n",
      " [ 7  7  8]\n",
      " [ 1  5  9]]\n",
      "y is reshaped x:\n",
      "[[  6   8]\n",
      " [  8  10]\n",
      " [  1   6]\n",
      " [  7   7]\n",
      " [  8   1]\n",
      " [  5 -99]]\n",
      "current x:\n",
      "[[  6   8   8]\n",
      " [ 10   1   6]\n",
      " [  7   7   8]\n",
      " [  1   5 -99]]\n"
     ]
    }
   ],
   "source": [
    "x = x2.copy()\n",
    "print(\"original x:\")\n",
    "print(x)\n",
    "y = x.reshape((6, 2))\n",
    "print(\"y is reshaped x:\")\n",
    "y[-1, -1] = -99\n",
    "print(y)\n",
    "print(\"current x:\")\n",
    "print(x)"
   ]
  },
  {
   "cell_type": "markdown",
   "metadata": {},
   "source": [
    "Trasposition is a form of reshaping (reversal of axes).\n",
    "1D arrays have no orientation, i.e. they are neither row nor column vectors"
   ]
  },
  {
   "cell_type": "code",
   "execution_count": 6,
   "metadata": {},
   "outputs": [
    {
     "name": "stdout",
     "output_type": "stream",
     "text": [
      "[ 5  0  3 11  3  7  9  3  5  2  4  7]\n",
      "[ 5  0  3 11  3  7  9  3  5  2  4  7]\n"
     ]
    }
   ],
   "source": [
    "print(x1)  # x is neither row or column vector \n",
    "print(x1.T)"
   ]
  },
  {
   "cell_type": "markdown",
   "metadata": {},
   "source": [
    "To convert a 1D array to a row/column vector (1xn or nx1 array) use reshaping of np.newaxis"
   ]
  },
  {
   "cell_type": "code",
   "execution_count": 7,
   "metadata": {},
   "outputs": [
    {
     "name": "stdout",
     "output_type": "stream",
     "text": [
      "row vectors\n",
      "[[ 5  0  3 11  3  7  9  3  5  2  4  7]]\n",
      "[[ 5  0  3 11  3  7  9  3  5  2  4  7]]\n",
      "column vectors\n",
      "[[ 5]\n",
      " [ 0]\n",
      " [ 3]\n",
      " [11]\n",
      " [ 3]\n",
      " [ 7]\n",
      " [ 9]\n",
      " [ 3]\n",
      " [ 5]\n",
      " [ 2]\n",
      " [ 4]\n",
      " [ 7]]\n",
      "[[ 5]\n",
      " [ 0]\n",
      " [ 3]\n",
      " [11]\n",
      " [ 3]\n",
      " [ 7]\n",
      " [ 9]\n",
      " [ 3]\n",
      " [ 5]\n",
      " [ 2]\n",
      " [ 4]\n",
      " [ 7]]\n"
     ]
    }
   ],
   "source": [
    "print(\"row vectors\")\n",
    "print(x1.reshape((1, x1.size)))     # row vector\n",
    "print(x1[np.newaxis, :])            # row vector\n",
    "print(\"column vectors\")\n",
    "print(x1.reshape((x1.size, 1)))     # column vector\n",
    "print(x1[:, np.newaxis])            # column vector"
   ]
  },
  {
   "cell_type": "markdown",
   "metadata": {},
   "source": [
    "## Aggregation\n",
    "When the aggregation axis is set, the shape of the output is the original shape with the aggregation axis removed"
   ]
  },
  {
   "cell_type": "code",
   "execution_count": 8,
   "metadata": {},
   "outputs": [
    {
     "name": "stdout",
     "output_type": "stream",
     "text": [
      "original matrix\n",
      "[[ 6  8  8]\n",
      " [10  1  6]\n",
      " [ 7  7  8]\n",
      " [ 1  5  9]]\n",
      "matrix sum (axis=None)\n",
      "76\n",
      "matrix sum (axis=0)\n",
      "[24 21 31]\n",
      "matrix sum (axis=1)\n",
      "[22 17 22 15]\n"
     ]
    }
   ],
   "source": [
    "print(\"original matrix\")\n",
    "print(x2)\n",
    "print(\"matrix sum (axis=None)\")\n",
    "print(x2.sum())\n",
    "print(\"matrix sum (axis=0)\")\n",
    "print(x2.sum(axis=0))  #  (4, 3) --> (0, 3)\n",
    "print(\"matrix sum (axis=1)\")\n",
    "print(x2.sum(axis=1)) # (4, 3) ---> (4, 0)"
   ]
  },
  {
   "cell_type": "markdown",
   "metadata": {},
   "source": [
    "## Broadcasting\n",
    "The process of stretching the shape of an array to make it match the shape of another. \n",
    "This allows operators ('+', '-', '\\*', '/') and ufuncs to work elementwise."
   ]
  },
  {
   "cell_type": "markdown",
   "metadata": {},
   "source": [
    "### Broadcasting rules\n",
    "1. If the two arrays differ in their number of dimensions, the shape of the one with fewer dimensions is padded with ones on its leading (left) side.\n",
    "2. If the shape of the two arrays does not match in a given dimension, the array with shape equal to 1 in that dimension is stretched to match the other shape.\n",
    "3. If in any dimension the sizes disagree and neither is equal to 1, an Exception is raised.\n"
   ]
  },
  {
   "cell_type": "code",
   "execution_count": 9,
   "metadata": {},
   "outputs": [
    {
     "name": "stdout",
     "output_type": "stream",
     "text": [
      "xorig: shape=(4, 3)\n",
      "xmean: shape=(3,)\n",
      "xcent: shape=(8, 3)\n",
      "sanity check: column sums of xcent\n",
      "[1.11022302e-16 3.33066907e-16 1.11022302e-16]\n"
     ]
    }
   ],
   "source": [
    "# centering an array\n",
    "xorig = np.random.random((8, 3))   # shape (8, 3)\n",
    "xmean = xorig.mean(axis=0)         # column mean shape (3,)\n",
    "xcent = xorig - xmean              # rule 1: pad xmean to shape (1, 3); rule 2: stretch xmean to shape (8, 3)\n",
    "print(\"xorig: shape={0}\".format(x.shape))\n",
    "print(\"xmean: shape={0}\".format(xmean.shape))\n",
    "print(\"xcent: shape={0}\".format(xcent.shape))\n",
    "print(\"sanity check: column sums of xcent\")\n",
    "print(xcent.sum(axis=0))"
   ]
  },
  {
   "cell_type": "markdown",
   "metadata": {},
   "source": [
    "## Vector-Matrix operations\n",
    "A vector is a 1D array, or a (nx1) or (1xn) 2D array  \n",
    "A matrix is an mxn 2D array  \n",
    "A tensor of rank r is an rD array with shape (n_0, n_1, ...n_{r-1})"
   ]
  },
  {
   "cell_type": "markdown",
   "metadata": {},
   "source": [
    "### Inner products"
   ]
  },
  {
   "cell_type": "code",
   "execution_count": 10,
   "metadata": {},
   "outputs": [
    {
     "name": "stdout",
     "output_type": "stream",
     "text": [
      "using np.inner\n",
      "[0.28837911]\n",
      "[0.28837911]\n",
      "[[0.28837911]]\n",
      "[[0.0765184  0.11995946 0.09227411]\n",
      " [0.04689188 0.07351336 0.05654727]\n",
      " [0.11472469 0.17985623 0.13834735]]\n",
      "using np.dot\n",
      "[0.28837911]\n",
      "[0.28837911]\n",
      "[[0.28837911]]\n",
      "[[0.28837911]]\n"
     ]
    }
   ],
   "source": [
    "x = np.random.random(3)                  # a vector without orientation\n",
    "y = x.reshape((1, 3))                    # a row vector\n",
    "z = np.random.random(3).reshape((3, 1))  # a column vector\n",
    "\n",
    "# inner product of two vectors\n",
    "print(\"using np.inner\")\n",
    "print(np.inner(x, z.T))\n",
    "print(np.inner(z.T, x))\n",
    "print(np.inner(z.T, y))\n",
    "print(np.inner(y.T, z)) # surprise\n",
    "print(\"using np.dot\")\n",
    "print(np.dot(x, z))\n",
    "print(np.dot(z.T, x))\n",
    "print(np.dot(y, z))  \n",
    "print(np.dot(z.T, y.T))\n"
   ]
  },
  {
   "cell_type": "markdown",
   "metadata": {},
   "source": [
    "A headache-free way to do it is using the \"@\" operator or np.matmult (python>=3.5)"
   ]
  },
  {
   "cell_type": "code",
   "execution_count": 11,
   "metadata": {},
   "outputs": [
    {
     "name": "stdout",
     "output_type": "stream",
     "text": [
      "using @\n",
      "[0.28837911]\n",
      "[0.28837911]\n",
      "[[0.28837911]]\n",
      "[[0.28837911]]\n"
     ]
    }
   ],
   "source": [
    "print(\"using @\")\n",
    "print(x @ z)\n",
    "print(z.T @ x)\n",
    "print(y @ z)\n",
    "print(z.T @ y.T) "
   ]
  },
  {
   "cell_type": "markdown",
   "metadata": {},
   "source": [
    "### Vector-matrix multiplication"
   ]
  },
  {
   "cell_type": "code",
   "execution_count": 12,
   "metadata": {},
   "outputs": [
    {
     "name": "stdout",
     "output_type": "stream",
     "text": [
      "A@x:\n",
      "[0.27898715 0.51903678 0.20493014]\n",
      "A@z:\n",
      "[[0.27898715]\n",
      " [0.51903678]\n",
      " [0.20493014]]\n",
      "xA@x:\n",
      "0.3715137538073113\n",
      "zA@z:\n",
      "[[0.37151375]]\n"
     ]
    }
   ],
   "source": [
    "x = np.random.random(3)                  # a vector without orientation\n",
    "z = x[:, np.newaxis]                     # a colum vector\n",
    "A = np.random.random((3, 3))\n",
    "print(\"A@x:\")\n",
    "print(A @ x)\n",
    "print(\"A@z:\")\n",
    "print(A @ z)\n",
    "print(\"xA@x:\")\n",
    "print(x @ A @ x)\n",
    "print(\"zA@z:\")\n",
    "print(z.T @ A @ z)"
   ]
  },
  {
   "cell_type": "markdown",
   "metadata": {},
   "source": [
    "### How the @ operator (numpy.matmult) works\n",
    "\n",
    "A @ B\n",
    "\n",
    "First it checks/broadcasts the two arrays as follows:\n",
    "* If A is 1D, it is promoted to a matrix by *prepending* a 1 to its dimensions (row vector). After matrix multiplication the prepended 1 is removed.\n",
    "* If B is 1D, it is promoted to a matrix by *appending* a 1 to its dimensions (column vector). After matrix multiplication the appended 1 is removed.\n",
    "* If either A or B is ND, N > 2, it is treated as a stack of matrices residing in the last two indexes and broadcast accordingly.\n",
    "\n",
    "Then it does a sum-product between the two arrays over the last dimension of A and the one before last dimension of B\n",
    "\n",
    "Corrollaries:\n",
    "1. Multiplication with a scalar is not allowed. Use the * operator instead\n",
    "2. If A and B are 1D arrays, it computes the dot-product of two vectors A^T dot B\n",
    "3. If A is 1D and B is 2D, it computes the vector-matrix product A^T dot B\n",
    "4. If A is 2D and B is 1D, it computes matrix-vector product A dot B\n",
    "5. If A and B are 2D matrices, the standard matrix product is computed"
   ]
  },
  {
   "cell_type": "markdown",
   "metadata": {},
   "source": [
    "## An example from finance"
   ]
  },
  {
   "cell_type": "markdown",
   "metadata": {},
   "source": [
    "We have an equity portfolio of $N$ assets. \n",
    "For each asset $i$, the portfolio contains a position $x_i$ in million dollars.  \n",
    "Positive (negative) position means the portfolio is long (short).   \n",
    "The return volatilities $\\sigma_i$ and the return correlation matrix $\\rho$ are given (only the upper triangular part).  \n",
    "Compute the volatility of the portfolio returns."
   ]
  },
  {
   "cell_type": "code",
   "execution_count": 70,
   "metadata": {},
   "outputs": [],
   "source": [
    "x = np.array([1.5, -0.8, 6.5, 4.7, -1.4])\n",
    "sigma = np.array([0.2, 0.18, 0.12, 0.25, 0.21]) \n",
    "rho = np.array([[1.0, 0.4, 0.6, 0.7, 0.4], \n",
    "                [np.NaN, 1.0, 0.5, 0.7, 0.5],\n",
    "                [np.NaN, np.NaN, 1.0, 0.4, 0.5],\n",
    "                [np.NaN, np.NaN, np.NaN, 1.0, 0.6],\n",
    "                [np.NaN, np.NaN, np.NaN, np.NaN, 1.0]])"
   ]
  },
  {
   "cell_type": "markdown",
   "metadata": {},
   "source": [
    "First compute the symmetric correlation matrix"
   ]
  },
  {
   "cell_type": "code",
   "execution_count": 71,
   "metadata": {},
   "outputs": [
    {
     "name": "stdout",
     "output_type": "stream",
     "text": [
      "Correlation matrix:\n",
      "[[1.  0.4 0.6 0.7 0.4]\n",
      " [0.4 1.  0.5 0.7 0.5]\n",
      " [0.6 0.5 1.  0.4 0.5]\n",
      " [0.7 0.7 0.4 1.  0.6]\n",
      " [0.4 0.5 0.5 0.6 1. ]]\n"
     ]
    }
   ],
   "source": [
    "cormat = (np.triu(rho) + np.triu(rho).T)\n",
    "np.fill_diagonal(cormat, 1.0)\n",
    "print('Correlation matrix:')\n",
    "print(cormat)"
   ]
  },
  {
   "cell_type": "markdown",
   "metadata": {},
   "source": [
    "Then compute the $NxN$ covariance matrix among the assets.  \n",
    "$C_{i,j} =  \\rho_{i,j} \\sigma_i \\sigma_j$"
   ]
  },
  {
   "cell_type": "code",
   "execution_count": 72,
   "metadata": {},
   "outputs": [
    {
     "name": "stdout",
     "output_type": "stream",
     "text": [
      "Covariance matrix:\n",
      "[[0.04   0.0144 0.0144 0.035  0.0168]\n",
      " [0.0144 0.0324 0.0108 0.0315 0.0189]\n",
      " [0.0144 0.0108 0.0144 0.012  0.0126]\n",
      " [0.035  0.0315 0.012  0.0625 0.0315]\n",
      " [0.0168 0.0189 0.0126 0.0315 0.0441]]\n"
     ]
    }
   ],
   "source": [
    "covmat = sigma[:, np.newaxis] * cormat * sigma[np.newaxis, :]\n",
    "print('Covariance matrix:')\n",
    "print(covmat)"
   ]
  },
  {
   "cell_type": "markdown",
   "metadata": {},
   "source": [
    "The portfolio variance is the quadratic form $x^T \\cdot C \\cdot x$ divided by the gross notional $A = \\sum_i |x_i|$"
   ]
  },
  {
   "cell_type": "code",
   "execution_count": 74,
   "metadata": {},
   "outputs": [
    {
     "name": "stdout",
     "output_type": "stream",
     "text": [
      "Portfolio volatility: 10.90%\n"
     ]
    }
   ],
   "source": [
    "A = np.sum(np.abs(x))\n",
    "pvar = x @ covmat @ x\n",
    "pvar /= A**2\n",
    "sigma_p = np.sqrt(pvar)\n",
    "print(\"Portfolio volatility: {0:4.2f}%\".format(100* sigma_p))"
   ]
  }
 ],
 "metadata": {
  "kernelspec": {
   "display_name": "Python 3",
   "language": "python",
   "name": "python3"
  },
  "language_info": {
   "codemirror_mode": {
    "name": "ipython",
    "version": 3
   },
   "file_extension": ".py",
   "mimetype": "text/x-python",
   "name": "python",
   "nbconvert_exporter": "python",
   "pygments_lexer": "ipython3",
   "version": "3.7.1"
  }
 },
 "nbformat": 4,
 "nbformat_minor": 2
}
