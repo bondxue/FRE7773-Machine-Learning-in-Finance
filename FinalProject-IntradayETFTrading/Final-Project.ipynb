{
 "cells": [
  {
   "cell_type": "markdown",
   "metadata": {},
   "source": [
    "# Final Project\n",
    "#### Assigned: 2019-05-09\n",
    "#### Due EoD: 2019-05-22\n",
    "\n",
    "Intraday ETF trading based on 10-sec aggregated equity market data."
   ]
  },
  {
   "cell_type": "markdown",
   "metadata": {},
   "source": [
    "#### Name:  Mengheng Xue\n",
    "#### NetID: mx586"
   ]
  },
  {
   "cell_type": "markdown",
   "metadata": {},
   "source": [
    "## Data Set"
   ]
  },
  {
   "cell_type": "markdown",
   "metadata": {},
   "source": [
    "SPY is an Exchange Traded Fund (ETF) that replicates the S&P 500 index, and trades in exchanges like ordinary equity.  \n",
    "SPY is the most liquid (heavily traded) equity asset in the US.  \n",
    "\n",
    "For all trading days in June 2018 we have aggregated in 10-sec intervals the trading activity in SPY across all exchanges.  \n",
    "The dataset is provided in the file `Resources/Data/spy-10sec-201806.csv` at the class site.   \n",
    "Each row corresponds to a specific 10-sec interval for the corresponding trading day.  \n",
    "A row reports trading activity within the time period that *ends* at the corresponding interval.  \n",
    "\n",
    "Regular trading hours in the US are from 09:30 to 16:00.  \n",
    "You will notice that the 09:30 and 16:00 intervals have much larger traded volume relative to neighboring ones.  \n",
    "This is because the market opens at 09:30 with an opening auction and closes at 16:00 with a closing auction.  \n",
    "The consolidated limit order book is the collection of all quotes to buy (bid) and to sell (ask).  \n",
    "Bid and ask prices/sizes are quotes, i.e. proposals to trade a given quantity at a given price.  \n",
    "VWAP is the volume weighted average of prices at which trades actually occurred.  \n",
    "\n",
    "\n",
    "\n",
    "\n",
    "|Column              | Description  |\n",
    "---------------------|--------------|\n",
    "|volume              | Number of shares traded within the interval  ($\\sum_i V_i $,   summing over all trades $i$)          |\n",
    "|vwap                | Volume Weighted Average Price ( $VWAP = \\sum_i V_i P_i / \\sum_i V_i$,   summing over all trades $i$) |\n",
    "|lowPx/highPx        | Lowest and highest trade prices within the interval                               |\n",
    "|lastBidPx/lastAskPx | Last bid and ask price in the interval                         |\n",
    "|lastBidSz/lastAskSz | Last bid and ask sizes (in hundreds of shares) in the interval |\n"
   ]
  },
  {
   "cell_type": "markdown",
   "metadata": {},
   "source": [
    "#### Feature engineering\n",
    "\n",
    "Derived quantities of interest are\n",
    "\n",
    "1. The Close Location Value (CLV) indicator. This is an intraday adaptation of a classic technical indicator. It is defined as  \n",
    "$$\n",
    "CLV_t = \\frac{VWAP_t - (lowPx_t + highPx_t)/2}{(highPx_t - lowPx_t)/2}\n",
    "$$\n",
    "It measures the location of the VWAP within interval $t$, relative to the mid-point price between low and high price.  \n",
    "\n",
    "2. The last *quote imbalance* of interval $t$, defined as \n",
    "$$\n",
    "Imbal_t = \\frac{lastBidSz_t - lastAskSz_t}{lastBidSz_t + lastAskSz_t}\n",
    "$$\n",
    "By construction $-1 \\le Imbal \\le 1$.  \n",
    "When $Imbal \\rightarrow 1$, there is much more interest to buy than to sell. \n",
    "Conversely, when $Imbal \\rightarrow -1$ there is much more interest to sell than to buy.  \n",
    "\n",
    "3. The log-transformed volume defined as $logVolume = log10(Volume)$  \n",
    "When working with volume-like quantities (non-negative) taking logs is a common normalization.  \n",
    "Either base 10 or natural logs can be used, base 10 logs may be easier to interpret.\n",
    "\n",
    "We are also interested in the $N$-period forward return in basis points\n",
    "$$\n",
    "\\mathrm{fwdRetNBps}_t = 10000 * \\left(\\frac{VWAP_{t+N}}{VWAP_t} - 1\\right)\n",
    "$$"
   ]
  },
  {
   "cell_type": "markdown",
   "metadata": {},
   "source": [
    "## Problem (100 points)"
   ]
  },
  {
   "cell_type": "markdown",
   "metadata": {},
   "source": [
    "#### Objective\n",
    "+ Construct ML models that use features derived from market observables, to predict price direction in future periods\n",
    "+ Assess the models using 10-sec as well as 1-min aggregation periods"
   ]
  },
  {
   "cell_type": "markdown",
   "metadata": {},
   "source": [
    "#### Data Preparation (30 points)\n",
    "+ Load the SPY 10-sec data\n",
    "+ Calculate the CLV and the last quote imbalance for each interval. If highPx is equal to lowPx for an interval, set the CLV value to 0.\n",
    "+ Calculate the 1-period forward VWAP returns in basis points\n",
    "+ Split the dataset into training sample with the first 16 days, and testing sample with the remaining 4 trading days.\n",
    "+ Use the average VWAP in the training set a reference price. Call this $\\mathrm{RefPx}$.\n",
    "+ Compute a cutoff return in basis points as:  $\\mathrm{cutRetBps} = 10000 * (0.02) / \\mathrm{RefPx}$  \n",
    "  This return corresponds to VWAP movement of twice the typical bid-ask spread (i.e 2 * 0.01)\n",
    "+ Add a new column called pxDir1 (price direction) and label the 1-period forward price movement as follows:  \n",
    "  * If fwdRet1Bps > cutRetBps then pxDir1 = +1  \n",
    "  * If abs(fwdRet1Bps) <= cutRetBps then pxDir1 = 0  \n",
    "  * If fwdRet1Bps < - cutRet1Bps then pxDir1 = -1  \n",
    "  Therefore pxDir is a class variable taking values in the set $\\{-1, 0, 1\\}$.\n",
    "+ Re-aggregate the 10-sec data into 1-min data and store them in a new data frame.\n",
    "+ Repeat the process above (CLV, quote imbalance, forward returns, price direction labeling) with the 1-min data."
   ]
  },
  {
   "cell_type": "markdown",
   "metadata": {},
   "source": [
    "#### Modeling (60 points)\n",
    "\n",
    "+ Exploratory data analysis (EDA) which should contain:   \n",
    "    * univariate distributions of features: logVolume, clv, imbalance  \n",
    "    * univariate distributions of targets: fwdRet1Bps, pxDir1  \n",
    "    * any other distribution that may reveal a relationship between target and features  \n",
    "    * correlation heat map  \n",
    "+ Construction of a *baseline* model, to be used as a reference.  \n",
    "  The baseline model predicts the price direction class $C=\\{-1, 0, 1\\}$ randomly using the class empirical probability of occurence.  \n",
    "$$\n",
    "\\mathbb{P}(C=\\pm 1) = \\frac{N_{train}(C=\\pm 1)}{N_{train}}, \\quad \n",
    "\\mathbb{P}(C=0) = \\frac{N_{train}(C=0)}{N_{train}}\n",
    "$$\n",
    "Estimate the empirical probabilities of the baseline model using the training set.  \n",
    "Make predictions for pxDir1 (simply sample the multinomial distribution) and use the testing set to report  \n",
    "\n",
    "|Model               | Accuracy  | Precision  | Recall | F1wght | F1micro | \n",
    "---------------------|-----------|------------|--------|---------|---------|\n",
    "|Baseline            | ...       | ...        | ...    | ...     | ...     |\n",
    "\n",
    "Precision, Recall and F1wght should be measured \"weighted\" to account for class occurence and potential imbalance.  \n",
    "F1micro is the \"micro\" F1 score, i.e. it first computes total true/false positives/negatives first and then computes the F1 score.\n",
    "\n",
    "+ Construct *two* models, of which one should be neural net based.  \n",
    "  The other could be any of the classic ML models (Logistic, SVM, Forest, AdaBoost, ...)  \n",
    "  Train and tune the models in order to forecast the target variable pxDir1.  \n",
    "  Evaluate the models on the test sample and add their performance metrics to the table above.  \n",
    "  \n",
    "+ Reaggregate the data using 1-min intervals and repeat the model runs \n",
    "\n",
    "+ Present your conclusions about the best model on the 10-sec and 1-min aggregated data"
   ]
  },
  {
   "cell_type": "markdown",
   "metadata": {},
   "source": [
    "#### Extra Improvement (10 points)\n",
    "\n",
    "Attempt to improve model performance by introducing one extra feature variable, derived from the existing market data.  \n",
    "The extra variable could be either some kind of moving average or an intraday adaptation of a technical indicator.  \n",
    "Measure the performance improvement for the 10-sec and 1-min dataset."
   ]
  },
  {
   "cell_type": "markdown",
   "metadata": {},
   "source": [
    "#### Submission Format"
   ]
  },
  {
   "cell_type": "markdown",
   "metadata": {},
   "source": [
    "* Follow the submission rules for homeworks.  \n",
    "* The main document is this notebook, describing the methodology and the conclusions.  \n",
    "* Make sure your notebook runs using the standard packages we used in class: numpy/scipy/sklearn/statsmodels/tensorflow/keras.\n",
    "* You can write your own utility classes and functions in separate source code files and import them into this notebook.  \n",
    "* Assume that your separate source code files will be side-by-side with the notebook. \n",
    "* If you are submitting multiple files, put them in a zip archive."
   ]
  },
  {
   "cell_type": "markdown",
   "metadata": {},
   "source": [
    "Good luck."
   ]
  },
  {
   "cell_type": "markdown",
   "metadata": {},
   "source": [
    "## Solution"
   ]
  },
  {
   "cell_type": "markdown",
   "metadata": {},
   "source": [
    "### Import Libraries "
   ]
  },
  {
   "cell_type": "code",
   "execution_count": 10,
   "metadata": {},
   "outputs": [],
   "source": [
    "import numpy as np\n",
    "import pandas as pd\n",
    "from sklearn.metrics import accuracy_score, precision_score, recall_score, f1_score\n",
    "import matplotlib.pyplot as plt\n",
    "import warnings\n",
    "warnings.filterwarnings(\"ignore\", category=FutureWarning)\n",
    "import seaborn as sns\n",
    "%matplotlib inline \n",
    "# ====================plot setting ===============\n",
    "pd.options.display.max_colwidth = 70\n",
    "\n",
    "plt.rcParams['figure.figsize'] = (20, 10)\n",
    "plt.rcParams['legend.fontsize'] = 'x-large'\n",
    "plt.rcParams['axes.labelsize'] = 'x-large'\n",
    "plt.rcParams['axes.titlesize'] = 'x-large'\n",
    "plt.rcParams['xtick.labelsize'] = 'x-large'\n",
    "plt.rcParams['ytick.labelsize'] = 'x-large'\n",
    "\n",
    "sns.set_style('darkgrid')\n",
    "sns.set_context('notebook', font_scale=1.8)"
   ]
  },
  {
   "cell_type": "markdown",
   "metadata": {},
   "source": [
    "### Data Preparation "
   ]
  },
  {
   "cell_type": "code",
   "execution_count": 3,
   "metadata": {},
   "outputs": [
    {
     "data": {
      "text/html": [
       "<div>\n",
       "<style scoped>\n",
       "    .dataframe tbody tr th:only-of-type {\n",
       "        vertical-align: middle;\n",
       "    }\n",
       "\n",
       "    .dataframe tbody tr th {\n",
       "        vertical-align: top;\n",
       "    }\n",
       "\n",
       "    .dataframe thead th {\n",
       "        text-align: right;\n",
       "    }\n",
       "</style>\n",
       "<table border=\"1\" class=\"dataframe\">\n",
       "  <thead>\n",
       "    <tr style=\"text-align: right;\">\n",
       "      <th></th>\n",
       "      <th>date</th>\n",
       "      <th>time</th>\n",
       "      <th>sym</th>\n",
       "      <th>volume</th>\n",
       "      <th>vwap</th>\n",
       "      <th>lowPx</th>\n",
       "      <th>highPx</th>\n",
       "      <th>lastBidPx</th>\n",
       "      <th>lastAskPx</th>\n",
       "      <th>lastBidSz</th>\n",
       "      <th>lastAskSz</th>\n",
       "    </tr>\n",
       "  </thead>\n",
       "  <tbody>\n",
       "    <tr>\n",
       "      <th>0</th>\n",
       "      <td>2018-06-01</td>\n",
       "      <td>09:30:00</td>\n",
       "      <td>SPY</td>\n",
       "      <td>395424</td>\n",
       "      <td>272.459140</td>\n",
       "      <td>272.320007</td>\n",
       "      <td>272.489990</td>\n",
       "      <td>272.359985</td>\n",
       "      <td>272.380005</td>\n",
       "      <td>14</td>\n",
       "      <td>100</td>\n",
       "    </tr>\n",
       "    <tr>\n",
       "      <th>1</th>\n",
       "      <td>2018-06-01</td>\n",
       "      <td>09:30:10</td>\n",
       "      <td>SPY</td>\n",
       "      <td>55692</td>\n",
       "      <td>272.395593</td>\n",
       "      <td>272.339996</td>\n",
       "      <td>272.489990</td>\n",
       "      <td>272.399994</td>\n",
       "      <td>272.410004</td>\n",
       "      <td>9</td>\n",
       "      <td>50</td>\n",
       "    </tr>\n",
       "    <tr>\n",
       "      <th>2</th>\n",
       "      <td>2018-06-01</td>\n",
       "      <td>09:30:20</td>\n",
       "      <td>SPY</td>\n",
       "      <td>85164</td>\n",
       "      <td>272.443104</td>\n",
       "      <td>272.390015</td>\n",
       "      <td>272.470001</td>\n",
       "      <td>272.450012</td>\n",
       "      <td>272.459991</td>\n",
       "      <td>18</td>\n",
       "      <td>7</td>\n",
       "    </tr>\n",
       "    <tr>\n",
       "      <th>3</th>\n",
       "      <td>2018-06-01</td>\n",
       "      <td>09:30:30</td>\n",
       "      <td>SPY</td>\n",
       "      <td>26973</td>\n",
       "      <td>272.441112</td>\n",
       "      <td>272.420013</td>\n",
       "      <td>272.459991</td>\n",
       "      <td>272.429993</td>\n",
       "      <td>272.440002</td>\n",
       "      <td>5</td>\n",
       "      <td>20</td>\n",
       "    </tr>\n",
       "    <tr>\n",
       "      <th>4</th>\n",
       "      <td>2018-06-01</td>\n",
       "      <td>09:30:40</td>\n",
       "      <td>SPY</td>\n",
       "      <td>77809</td>\n",
       "      <td>272.440219</td>\n",
       "      <td>272.410004</td>\n",
       "      <td>272.480011</td>\n",
       "      <td>272.420013</td>\n",
       "      <td>272.429993</td>\n",
       "      <td>1</td>\n",
       "      <td>13</td>\n",
       "    </tr>\n",
       "  </tbody>\n",
       "</table>\n",
       "</div>"
      ],
      "text/plain": [
       "         date      time  sym  volume        vwap       lowPx      highPx  \\\n",
       "0  2018-06-01  09:30:00  SPY  395424  272.459140  272.320007  272.489990   \n",
       "1  2018-06-01  09:30:10  SPY   55692  272.395593  272.339996  272.489990   \n",
       "2  2018-06-01  09:30:20  SPY   85164  272.443104  272.390015  272.470001   \n",
       "3  2018-06-01  09:30:30  SPY   26973  272.441112  272.420013  272.459991   \n",
       "4  2018-06-01  09:30:40  SPY   77809  272.440219  272.410004  272.480011   \n",
       "\n",
       "    lastBidPx   lastAskPx  lastBidSz  lastAskSz  \n",
       "0  272.359985  272.380005         14        100  \n",
       "1  272.399994  272.410004          9         50  \n",
       "2  272.450012  272.459991         18          7  \n",
       "3  272.429993  272.440002          5         20  \n",
       "4  272.420013  272.429993          1         13  "
      ]
     },
     "execution_count": 3,
     "metadata": {},
     "output_type": "execute_result"
    }
   ],
   "source": [
    "# Load the SPY 10-sec data\n",
    "names = ['date', 'time', 'sym', 'volume', 'vwap', 'lowPx', 'highPx', 'lastBidPx', 'lastAskPx', 'lastBidSz', 'lastAskSz']\n",
    "dataset = pd.read_csv('spy-10sec-201806.csv', skiprows=1, names=names)\n",
    "df_10sec = dataset.copy()\n",
    "df_10sec.head(5)"
   ]
  },
  {
   "cell_type": "markdown",
   "metadata": {},
   "source": [
    "#### update CLV, last quote imbalance, log volume, and 1-period forward price return in dataframe"
   ]
  },
  {
   "cell_type": "code",
   "execution_count": 4,
   "metadata": {},
   "outputs": [
    {
     "data": {
      "text/html": [
       "<div>\n",
       "<style scoped>\n",
       "    .dataframe tbody tr th:only-of-type {\n",
       "        vertical-align: middle;\n",
       "    }\n",
       "\n",
       "    .dataframe tbody tr th {\n",
       "        vertical-align: top;\n",
       "    }\n",
       "\n",
       "    .dataframe thead th {\n",
       "        text-align: right;\n",
       "    }\n",
       "</style>\n",
       "<table border=\"1\" class=\"dataframe\">\n",
       "  <thead>\n",
       "    <tr style=\"text-align: right;\">\n",
       "      <th></th>\n",
       "      <th>date</th>\n",
       "      <th>time</th>\n",
       "      <th>sym</th>\n",
       "      <th>volume</th>\n",
       "      <th>vwap</th>\n",
       "      <th>lowPx</th>\n",
       "      <th>highPx</th>\n",
       "      <th>lastBidPx</th>\n",
       "      <th>lastAskPx</th>\n",
       "      <th>lastBidSz</th>\n",
       "      <th>lastAskSz</th>\n",
       "      <th>logVolume</th>\n",
       "      <th>clv</th>\n",
       "      <th>Imbal</th>\n",
       "      <th>fwdRet1Bps</th>\n",
       "    </tr>\n",
       "  </thead>\n",
       "  <tbody>\n",
       "    <tr>\n",
       "      <th>0</th>\n",
       "      <td>2018-06-01</td>\n",
       "      <td>09:30:00</td>\n",
       "      <td>SPY</td>\n",
       "      <td>395424</td>\n",
       "      <td>272.459140</td>\n",
       "      <td>272.320007</td>\n",
       "      <td>272.489990</td>\n",
       "      <td>272.359985</td>\n",
       "      <td>272.380005</td>\n",
       "      <td>14</td>\n",
       "      <td>100</td>\n",
       "      <td>5.597063</td>\n",
       "      <td>0.637020</td>\n",
       "      <td>-0.754386</td>\n",
       "      <td>-2.332345</td>\n",
       "    </tr>\n",
       "    <tr>\n",
       "      <th>1</th>\n",
       "      <td>2018-06-01</td>\n",
       "      <td>09:30:10</td>\n",
       "      <td>SPY</td>\n",
       "      <td>55692</td>\n",
       "      <td>272.395593</td>\n",
       "      <td>272.339996</td>\n",
       "      <td>272.489990</td>\n",
       "      <td>272.399994</td>\n",
       "      <td>272.410004</td>\n",
       "      <td>9</td>\n",
       "      <td>50</td>\n",
       "      <td>4.745793</td>\n",
       "      <td>-0.258679</td>\n",
       "      <td>-0.694915</td>\n",
       "      <td>1.744181</td>\n",
       "    </tr>\n",
       "    <tr>\n",
       "      <th>2</th>\n",
       "      <td>2018-06-01</td>\n",
       "      <td>09:30:20</td>\n",
       "      <td>SPY</td>\n",
       "      <td>85164</td>\n",
       "      <td>272.443104</td>\n",
       "      <td>272.390015</td>\n",
       "      <td>272.470001</td>\n",
       "      <td>272.450012</td>\n",
       "      <td>272.459991</td>\n",
       "      <td>18</td>\n",
       "      <td>7</td>\n",
       "      <td>4.930256</td>\n",
       "      <td>0.327454</td>\n",
       "      <td>0.440000</td>\n",
       "      <td>-0.073097</td>\n",
       "    </tr>\n",
       "    <tr>\n",
       "      <th>3</th>\n",
       "      <td>2018-06-01</td>\n",
       "      <td>09:30:30</td>\n",
       "      <td>SPY</td>\n",
       "      <td>26973</td>\n",
       "      <td>272.441112</td>\n",
       "      <td>272.420013</td>\n",
       "      <td>272.459991</td>\n",
       "      <td>272.429993</td>\n",
       "      <td>272.440002</td>\n",
       "      <td>5</td>\n",
       "      <td>20</td>\n",
       "      <td>4.430929</td>\n",
       "      <td>0.055529</td>\n",
       "      <td>-0.600000</td>\n",
       "      <td>-0.032791</td>\n",
       "    </tr>\n",
       "    <tr>\n",
       "      <th>4</th>\n",
       "      <td>2018-06-01</td>\n",
       "      <td>09:30:40</td>\n",
       "      <td>SPY</td>\n",
       "      <td>77809</td>\n",
       "      <td>272.440219</td>\n",
       "      <td>272.410004</td>\n",
       "      <td>272.480011</td>\n",
       "      <td>272.420013</td>\n",
       "      <td>272.429993</td>\n",
       "      <td>1</td>\n",
       "      <td>13</td>\n",
       "      <td>4.891030</td>\n",
       "      <td>-0.136794</td>\n",
       "      <td>-0.857143</td>\n",
       "      <td>-0.013157</td>\n",
       "    </tr>\n",
       "  </tbody>\n",
       "</table>\n",
       "</div>"
      ],
      "text/plain": [
       "         date      time  sym  volume        vwap       lowPx      highPx  \\\n",
       "0  2018-06-01  09:30:00  SPY  395424  272.459140  272.320007  272.489990   \n",
       "1  2018-06-01  09:30:10  SPY   55692  272.395593  272.339996  272.489990   \n",
       "2  2018-06-01  09:30:20  SPY   85164  272.443104  272.390015  272.470001   \n",
       "3  2018-06-01  09:30:30  SPY   26973  272.441112  272.420013  272.459991   \n",
       "4  2018-06-01  09:30:40  SPY   77809  272.440219  272.410004  272.480011   \n",
       "\n",
       "    lastBidPx   lastAskPx  lastBidSz  lastAskSz  logVolume       clv  \\\n",
       "0  272.359985  272.380005         14        100   5.597063  0.637020   \n",
       "1  272.399994  272.410004          9         50   4.745793 -0.258679   \n",
       "2  272.450012  272.459991         18          7   4.930256  0.327454   \n",
       "3  272.429993  272.440002          5         20   4.430929  0.055529   \n",
       "4  272.420013  272.429993          1         13   4.891030 -0.136794   \n",
       "\n",
       "      Imbal  fwdRet1Bps  \n",
       "0 -0.754386   -2.332345  \n",
       "1 -0.694915    1.744181  \n",
       "2  0.440000   -0.073097  \n",
       "3 -0.600000   -0.032791  \n",
       "4 -0.857143   -0.013157  "
      ]
     },
     "execution_count": 4,
     "metadata": {},
     "output_type": "execute_result"
    }
   ],
   "source": [
    "# funciton to calculate Close Location Value\n",
    "def calculate_clv(vwap, lowPx, highPx):\n",
    "    if lowPx == highPx:\n",
    "        clv = 0\n",
    "    else:\n",
    "         clv = (vwap-(lowPx+highPx)/2) / ((highPx-lowPx)/2)\n",
    "    return clv\n",
    "\n",
    "# function to calculate last quote imbalance\n",
    "def calculate_Imbal(lastBidSz, lastAskSz):\n",
    "    imbal = (lastBidSz - lastAskSz)/(lastBidSz+lastAskSz)\n",
    "    return imbal\n",
    "\n",
    "# function to calculate N-period forward return in basis points, default is 1-period \n",
    "def calculate_fwdRetNBps(df, period=1):\n",
    "    for i in range(0, len(df)-period):\n",
    "        df.loc[i, 'fwdRet1Bps'] = 10000 * (df.loc[i+period, 'vwap']/df.loc[i, 'vwap'] - 1)\n",
    "    return df \n",
    "\n",
    "# function to calcuate log10 volume\n",
    "def calculate_logVolume(volume):\n",
    "    logVolume = np.log10(volume)\n",
    "    return logVolume\n",
    "\n",
    "# function to update clv, lmbal, logVolume and fwdRetNBps of dataframe \n",
    "def update_features(df):\n",
    "    df['logVolume'] = df.apply(lambda x: calculate_logVolume(x.volume), axis=1)\n",
    "    df['clv'] = df.apply(lambda x: calculate_clv(x.vwap, x.lowPx, x.highPx), axis=1)\n",
    "    df['Imbal'] = df.apply(lambda x: calculate_Imbal(x.lastBidSz, x.lastAskSz), axis=1)\n",
    "    df = calculate_fwdRetNBps(df)\n",
    "    return df\n",
    "\n",
    "df_10sec = update_features(df_10sec)   \n",
    "df_10sec.head(5)"
   ]
  },
  {
   "cell_type": "markdown",
   "metadata": {},
   "source": [
    "#### update price direction in dataframe and splite into first 16 days training set and last 4 days test set"
   ]
  },
  {
   "cell_type": "code",
   "execution_count": 5,
   "metadata": {
    "scrolled": false
   },
   "outputs": [
    {
     "name": "stdout",
     "output_type": "stream",
     "text": [
      "length of dataset: 46815\n",
      "length of training set: 37451\n",
      "length of testing set: 9364\n"
     ]
    }
   ],
   "source": [
    "# function calculate price direction values {-1, 0, 1}\n",
    "def calculate_pxDir1(fwdRet1Bps, cutRetBps):\n",
    "    if fwdRet1Bps > cutRetBps:\n",
    "        pxDir1 = 1\n",
    "    elif abs(fwdRet1Bps) <= cutRetBps:\n",
    "        pxDir1 = 0\n",
    "    else:\n",
    "        pxDir1 = -1\n",
    "    return pxDir1\n",
    "\n",
    "# function to separate dataset into 16 days training set and 4 days test set\n",
    "def train_test_split(df):\n",
    "    train_mask = (df['date'] <= '2018-06-22')\n",
    "    train_set = df.loc[train_mask]\n",
    "    RefPx = train_set['vwap'].mean()  # reference price\n",
    "    cutRetBps = 10000*0.02/RefPx # cutoff return \n",
    "    df['pxDir1'] = df.apply(lambda x: calculate_pxDir1(x.fwdRet1Bps, cutRetBps), axis=1)\n",
    "    train_mask = (df['date'] <= '2018-06-22') \n",
    "    train_set = df.loc[train_mask]\n",
    "    test_mask = (df['date'] >= '2018-06-25')\n",
    "    test_set = df.loc[test_mask]\n",
    "    test_set = test_set.reset_index(drop=True)\n",
    "    \n",
    "    return df, train_set, test_set\n",
    "\n",
    "df_10s, train_set10s, test_set10s = train_test_split(df_10sec)\n",
    "\n",
    "print('length of dataset: {}'.format(len(df_10s)))\n",
    "print('length of training set: {}'.format(len(train_set10s)))\n",
    "print('length of testing set: {}'.format(len(test_set10s)))"
   ]
  },
  {
   "cell_type": "markdown",
   "metadata": {},
   "source": [
    "### Exploratory Data Analysis (EDA)\n",
    "#### Univariate Distributions of Features of logVolume, clv and imbalance"
   ]
  },
  {
   "cell_type": "code",
   "execution_count": 11,
   "metadata": {
    "scrolled": true
   },
   "outputs": [
    {
     "data": {
      "text/plain": [
       "<matplotlib.legend.Legend at 0x1acb4deccc0>"
      ]
     },
     "execution_count": 11,
     "metadata": {},
     "output_type": "execute_result"
    },
    {
     "data": {
      "image/png": "[encoded data removed]",
      "text/plain": [
       "<Figure size 1440x1080 with 9 Axes>"
      ]
     },
     "metadata": {},
     "output_type": "display_data"
    }
   ],
   "source": [
    "fig,ax = plt.subplots(ncols=3,nrows=3,figsize=(20,15))\n",
    "plt.style.use('ggplot')\n",
    "sns.distplot(a=df_10s[df_10s['pxDir1']==0]['logVolume'],ax=ax[0][0],label='0')\n",
    "\n",
    "sns.distplot(a=df_10s[df_10s['pxDir1']==1]['logVolume'],ax=ax[1][0],label='1')\n",
    "sns.distplot(a=df_10s[df_10s['pxDir1']==-1]['logVolume'],ax=ax[2][0],label='-1')\n",
    "\n",
    "sns.distplot(a=df_10s[df_10s['pxDir1']==0]['clv'],ax=ax[0][1],label='0')\n",
    "sns.distplot(a=df_10s[df_10s['pxDir1']==1]['clv'],ax=ax[1][1],label='1')\n",
    "sns.distplot(a=df_10s[df_10s['pxDir1']==-1]['clv'],ax=ax[2][1],label='-1')\n",
    "\n",
    "sns.distplot(a=df_10s[df_10s['pxDir1']==0]['Imbal'],ax=ax[0][2],label='0')\n",
    "sns.distplot(a=df_10s[df_10s['pxDir1']==1]['Imbal'],ax=ax[1][2],label='1')\n",
    "sns.distplot(a=df_10s[df_10s['pxDir1']==-1]['Imbal'],ax=ax[2][2],label='-1')\n",
    "\n",
    "plt.legend()"
   ]
  },
  {
   "cell_type": "markdown",
   "metadata": {},
   "source": [
    "+ Based on the the univariate distribution plots of **logVolume**, **clv** and **Imbal** features for 3 price movement directions, it is hard to tell the difference for each movement directions. I would say only based on the univariate distribution plots, we can not judge whether **logVolume**, **clv** and **Imbal** are good features for predicting price movement directions."
   ]
  },
  {
   "cell_type": "markdown",
   "metadata": {},
   "source": [
    "#### Univariate distributions of targets: fwdRet1Bps, pxDir1"
   ]
  },
  {
   "cell_type": "code",
   "execution_count": 12,
   "metadata": {},
   "outputs": [
    {
     "data": {
      "text/plain": [
       "<matplotlib.axes._subplots.AxesSubplot at 0x1acb6a14dd8>"
      ]
     },
     "execution_count": 12,
     "metadata": {},
     "output_type": "execute_result"
    },
    {
     "data": {
      "image/png": "[encoded data removed]",
      "text/plain": [
       "<Figure size 1440x360 with 2 Axes>"
      ]
     },
     "metadata": {},
     "output_type": "display_data"
    }
   ],
   "source": [
    "fig,ax = plt.subplots(ncols=2,nrows=1,figsize=(20,5))\n",
    "plt.style.use('ggplot')\n",
    "sns.distplot(a=df_10s['fwdRet1Bps'].dropna(),ax=ax[0])\n",
    "sns.countplot(df_10s['pxDir1'],ax=ax[1],palette='Set2')"
   ]
  },
  {
   "cell_type": "markdown",
   "metadata": {},
   "source": [
    "+ We can see that **fwdRet1Bps** are concentrated around 0, which causes **pxDir1** has dominated 0. "
   ]
  },
  {
   "cell_type": "code",
   "execution_count": null,
   "metadata": {},
   "outputs": [],
   "source": [
    "features = ['logVolume', 'clv', 'Imbal', 'fwdRet1Bps']\n",
    "plt.rcParams\n",
    "sns.heatmap(df_10s[features].corr(),cmap='Greens',annot=True)"
   ]
  },
  {
   "cell_type": "code",
   "execution_count": null,
   "metadata": {},
   "outputs": [],
   "source": [
    "fig,ax = plt.subplots(ncols=2,nrows=2,figsize=(15,5))\n",
    "\n",
    "sns.distplot(a=df_10s['lastAskPx'],ax=ax[0][0])\n",
    "sns.distplot(a=df_10s['lastAskSz'],ax=ax[0][1])\n",
    "sns.distplot(a=df_10s['lastBidPx'],ax=ax[1][0])\n",
    "sns.distplot(a=df_10s['lastBidSz'],ax=ax[1][1])\n",
    "plt.tight_layout()"
   ]
  },
  {
   "cell_type": "markdown",
   "metadata": {},
   "source": [
    "### Data Preprocessing"
   ]
  },
  {
   "cell_type": "code",
   "execution_count": null,
   "metadata": {},
   "outputs": [],
   "source": [
    "from sklearn.preprocessing import LabelEncoder\n",
    "from keras.utils import np_utils\n",
    "from sklearn.preprocessing import StandardScaler\n",
    "\n",
    "# function to split train and test sets into X and y sets \n",
    "def data_preprocess(train_set, test_set, feature_start=11, feature_end=14):\n",
    "    X_train = train_set.iloc[:, feature_start:feature_end].values # logVolume, clt, Imbal\n",
    "    y_train = train_set.iloc[:, -1].values # pxDir1\n",
    "    X_test = test_set.iloc[:, feature_start:feature_end].values  \n",
    "    y_test = test_set.iloc[:, -1].values\n",
    "    \n",
    "    # Feature Scaling\n",
    "    sc = StandardScaler()\n",
    "    X_train = sc.fit_transform(X_train)\n",
    "    X_test = sc.transform(X_test)\n",
    "    X_train = X_train.astype(np.float32)\n",
    "    X_test = X_test.astype(np.float32)\n",
    "    \n",
    "    # Transform {-1, 0, 1}  into 3 categories \n",
    "    n_classes = 3\n",
    "    y_train = np_utils.to_categorical(y_train,n_classes)\n",
    "    y_test = np_utils.to_categorical(y_test,n_classes)\n",
    "    return X_train, y_train, X_test, y_test\n",
    "\n",
    "X_train10s, y_train10s, X_test10s, y_test10s = data_preprocess(train_set10s, test_set10s, 11, 14)\n"
   ]
  },
  {
   "cell_type": "markdown",
   "metadata": {},
   "source": [
    "### Bulid Baseline Model"
   ]
  },
  {
   "cell_type": "code",
   "execution_count": null,
   "metadata": {},
   "outputs": [],
   "source": [
    "from sklearn.metrics import accuracy_score, precision_score, recall_score, f1_score\n",
    "\n",
    "def build_baseline_model(train_set, test_set):\n",
    "    prior_pos = len(train_set[train_set['pxDir1']==1]) / len(train_set)\n",
    "    prior_neg = len(train_set[train_set['pxDir1']==-1]) / len(train_set)\n",
    "    prior_neu = len(train_set[train_set['pxDir1']==0]) / len(train_set)\n",
    "    test_set['rand'] = np.random.uniform(0,1,len(test_set))\n",
    "    y_pred = []\n",
    "    for i in range(len(test_set)):\n",
    "        if test_set['rand'].iloc[i] <= prior_neg:\n",
    "            y_pred.append(-1)\n",
    "        elif test_set['rand'].iloc[i] <= prior_neg+prior_neu:\n",
    "            y_pred.append(0)\n",
    "        else:\n",
    "            y_pred.append(-1)\n",
    " \n",
    "    return y_pred\n",
    "            \n",
    "def baseline_model_performance(train_set, test_set):\n",
    "    y_pred = build_baseline_model(train_set, test_set)\n",
    "    y_test = test_set['pxDir1'].values.tolist()\n",
    "    precision = precision_score(y_test, y_pred, average='weighted')\n",
    "    recall = recall_score(y_test, y_pred, average='weighted')\n",
    "    accuracy = accuracy_score(y_test, y_pred)\n",
    "    f1_wght = f1_score(y_test, y_pred, average='weighted')\n",
    "    f1_micro = f1_score(y_test, y_pred, average='micro')\n",
    "    df_performance = pd.DataFrame({'Model': 'Baseline', 'Accuracy': accuracy, 'Precision': precision, 'Recall': recall, 'F1wght':  f1_wght, 'F1micro': f1_micro}, index=[0])\n",
    "    return df_performance \n",
    "    \n",
    "\n",
    "baseline_model_performance(train_set10s, test_set10s)"
   ]
  },
  {
   "cell_type": "markdown",
   "metadata": {},
   "source": [
    "### Bulid NN Model"
   ]
  },
  {
   "cell_type": "code",
   "execution_count": null,
   "metadata": {
    "scrolled": false
   },
   "outputs": [],
   "source": [
    "from keras.models import Sequential \n",
    "from keras.layers import Dense \n",
    "\n",
    "\n",
    "def build_NN_model(X_train, y_train, n_features=3):\n",
    "    model = Sequential()\n",
    "    model.add(Dense(30, input_dim = n_features, activation = 'relu'))\n",
    "    model.add(Dense(30, activation = 'relu'))\n",
    "    model.add(Dense(3, activation = 'softmax'))\n",
    "#     model.summary()\n",
    "    model.compile(loss = 'categorical_crossentropy' , optimizer='adam', metrics = ['accuracy'] )\n",
    "    model.fit(X_train, y_train, epochs = 40, batch_size = 100, verbose=0)\n",
    "    return model\n",
    "\n",
    "def NN_performance(X_test, test_set, model):    \n",
    "    y_pred = model.predict(X_test)\n",
    "    y_pred = np.argmax(y_pred, axis=1)\n",
    "    \n",
    "    for i in range(len(y_pred)):\n",
    "        if y_pred[i] == 2:\n",
    "            y_pred[i] = -1\n",
    "\n",
    "    y_test = test_set['pxDir1']\n",
    "    precision = precision_score(y_test, y_pred, average='weighted',labels=np.unique(y_pred))\n",
    "    recall = recall_score(y_test, y_pred, average='weighted')\n",
    "    accuracy = accuracy_score(y_test, y_pred)\n",
    "    f1_wght = f1_score(y_test, y_pred, average='weighted',labels=np.unique(y_pred))\n",
    "    f1_micro = f1_score(y_test, y_pred, average='micro',labels=np.unique(y_pred))\n",
    "\n",
    "    df_performance = pd.DataFrame({'Model': 'NN', 'Accuracy': accuracy, 'Precision': precision, 'Recall': recall, 'F1wght':  f1_wght, 'F1micro': f1_micro}, index=[0])\n",
    "    return df_performance \n",
    "\n",
    "model = build_NN_model(X_train10s, y_train10s)\n",
    "NN_performance(X_test10s, test_set10s, model)"
   ]
  },
  {
   "cell_type": "markdown",
   "metadata": {},
   "source": [
    "### Logistical Regression"
   ]
  },
  {
   "cell_type": "code",
   "execution_count": null,
   "metadata": {},
   "outputs": [],
   "source": [
    "from sklearn.linear_model import LogisticRegression\n",
    "\n",
    "def bulid_LR_model(X_train, y_train):\n",
    "    model = LogisticRegression(C=1e-3, multi_class='multinomial', solver='lbfgs', max_iter=100)\n",
    "    model.fit(X_train, y_train)\n",
    "    return model\n",
    "\n",
    "def model_performance(X_test, y_test, model):\n",
    "    model_name = str(type(model).__name__)\n",
    "    y_pred = model.predict(X_test)\n",
    "    precision = precision_score(y_test, y_pred, average='weighted',labels=np.unique(y_pred))\n",
    "    recall = recall_score(y_test, y_pred, average='weighted')\n",
    "    accuracy = accuracy_score(y_test, y_pred)\n",
    "    f1_wght = f1_score(y_test, y_pred, average='weighted',labels=np.unique(y_pred))\n",
    "    f1_micro = f1_score(y_test, y_pred, average='micro',labels=np.unique(y_pred))\n",
    "    df_performance = pd.DataFrame({'Model': model_name, 'Accuracy': accuracy, 'Precision': precision, 'Recall': recall, 'F1wght':  f1_wght, 'F1micro': f1_micro}, index=[0])\n",
    "    return df_performance \n",
    "    \n",
    "\n",
    "y_train10s = train_set10s['pxDir1'].values.tolist()\n",
    "model = bulid_LR_model(X_train10s, y_train10s)\n",
    "y_test10s = test_set10s['pxDir1']\n",
    "model_performance(X_test10s, y_test10s, model)\n"
   ]
  },
  {
   "cell_type": "markdown",
   "metadata": {},
   "source": [
    "### Random Forest"
   ]
  },
  {
   "cell_type": "code",
   "execution_count": null,
   "metadata": {},
   "outputs": [],
   "source": [
    "from sklearn.ensemble import RandomForestClassifier\n",
    "\n",
    "def bulid_RF_model(X_train, y_train):\n",
    "    model = RandomForestClassifier(criterion = 'entropy',  n_estimators=20, max_depth=6, random_state = 0)\n",
    "    model.fit(X_train, y_train)\n",
    "    return model \n",
    "\n",
    "model = bulid_RF_model(X_train10s, y_train10s)\n",
    "model_performance(X_test10s, y_test10s, model)"
   ]
  },
  {
   "cell_type": "markdown",
   "metadata": {},
   "source": [
    "### AdaBoost"
   ]
  },
  {
   "cell_type": "code",
   "execution_count": null,
   "metadata": {},
   "outputs": [],
   "source": [
    "from sklearn.ensemble import AdaBoostClassifier\n",
    "from sklearn.tree import DecisionTreeClassifier\n",
    "\n",
    "def bulid_AdaBoost_model(X_train, y_train):\n",
    "    model = AdaBoostClassifier(DecisionTreeClassifier(max_depth=1),\n",
    "                               n_estimators=200,algorithm=\"SAMME.R\", learning_rate=0.1, random_state=0)\n",
    "    model.fit(X_train, y_train)\n",
    "    return model \n",
    "\n",
    "model = bulid_AdaBoost_model(X_train10s, y_train10s)\n",
    "model_performance(X_test10s, y_test10s, model)                                "
   ]
  },
  {
   "cell_type": "markdown",
   "metadata": {},
   "source": [
    "### 1-min Dataset Testing"
   ]
  },
  {
   "cell_type": "code",
   "execution_count": null,
   "metadata": {},
   "outputs": [],
   "source": [
    "df_1min = dataset.copy()\n",
    "df_1min['dateTime'] =  pd.to_datetime(df_1min['date' ] + ' ' + df_1min['time'])\n",
    "df_1min.set_index('dateTime', inplace=True)\n",
    "\n",
    "volume = df_1min['volume'].resample('1T').sum()\n",
    "df_1min['vol*vwap'] = df_1min['volume'] * df_1min['vwap']\n",
    "vol_times_vwap_1min = df_1min['vol*vwap'].resample('1T').sum()\n",
    "vwap = vol_times_vwap_1min/volume\n",
    "df_1min.drop('vol*vwap', axis=1, inplace=True)\n",
    "\n",
    "lowPx = df_1min['lowPx'].resample('1T').min()\n",
    "highPx = df_1min['highPx'].resample('1T').max()\n",
    "lastBidPx = df_1min['lastBidPx'].resample('1T').last()\n",
    "lastAskPx = df_1min['lastAskPx'].resample('1T').last()\n",
    "lastBidSz = df_1min['lastBidSz'].resample('1T').last()\n",
    "lastAskSz = df_1min['lastAskSz'].resample('1T').last()\n",
    "sym = df_1min['sym'].resample('1T').last()\n",
    "\n",
    "df_1min = pd.DataFrame({'sym': sym, 'volume': volume, 'vwap': vwap, 'lowPx': lowPx, 'highPx': highPx, 'lastBidPx': lastBidPx, 'lastAskPx': lastAskPx, 'lastBidSz': lastBidSz, 'lastAskSz': lastAskSz})\n",
    "df_1min.head(10000)\n",
    "\n",
    "# df_1min = df_1min.resample('1T').sum() # re-aggregate 10-sec data into 1-min data \n",
    "df_1min = df_1min[df_1min.index.weekday<5] # filter the weekend \n",
    "df_1min = df_1min.reset_index()\n",
    "df_1min['date'] = df_1min['dateTime'].dt.strftime('%d/%m/%Y')\n",
    "df_1min['time'] = df_1min['dateTime'].dt.strftime('%H:%M:%S')\n",
    "time_mask = (df_1min['time']>='09:30:00') & (df_1min['time']<='16:00:00') # filter not the daily trading time \n",
    "df_1min = df_1min.loc[time_mask].drop(['dateTime'], axis=1)\n",
    "df_1min = df_1min.reset_index(drop=True)\n",
    "df_1min['sym'] = 'SPY' # add back sym \n",
    "df_1min.head(10)"
   ]
  },
  {
   "cell_type": "code",
   "execution_count": null,
   "metadata": {},
   "outputs": [],
   "source": [
    "df_1min = update_features(df_1min)   \n",
    "df_1min, train_set_1min, test_set_1min = train_test_split(df_1min)\n",
    "cols = df_10sec.columns.tolist()\n",
    "df_1min = df_1min[cols]\n",
    "df_1min.head(10)"
   ]
  },
  {
   "cell_type": "markdown",
   "metadata": {},
   "source": [
    "### Baseline - 1min"
   ]
  },
  {
   "cell_type": "code",
   "execution_count": null,
   "metadata": {},
   "outputs": [],
   "source": [
    "df_1min, train_set1min, test_set1min = train_test_split(df_1min)\n",
    "baseline_model_performance(train_set1min, test_set1min)"
   ]
  },
  {
   "cell_type": "markdown",
   "metadata": {},
   "source": [
    "### NN - 1min"
   ]
  },
  {
   "cell_type": "code",
   "execution_count": null,
   "metadata": {},
   "outputs": [],
   "source": [
    "X_train1min, y_train1min, X_test1min, y_test1min = data_preprocess(train_set1min, test_set1min)\n",
    "model = build_NN_model(X_train1min, y_train1min)\n",
    "NN_performance(X_test1min, test_set1min, model)"
   ]
  },
  {
   "cell_type": "markdown",
   "metadata": {},
   "source": [
    "### Logistical Regression - 1min"
   ]
  },
  {
   "cell_type": "code",
   "execution_count": null,
   "metadata": {},
   "outputs": [],
   "source": [
    "y_train1min = train_set1min['pxDir1'].values.tolist()\n",
    "model = bulid_LR_model(X_train1min, y_train1min)\n",
    "y_test1min = test_set1min['pxDir1']\n",
    "model_performance(X_test1min, y_test1min, model)"
   ]
  },
  {
   "cell_type": "markdown",
   "metadata": {},
   "source": [
    "### Random Forest - 1min"
   ]
  },
  {
   "cell_type": "code",
   "execution_count": null,
   "metadata": {},
   "outputs": [],
   "source": [
    "model = bulid_RF_model(X_train1min, y_train1min)\n",
    "model_performance(X_test1min, y_test1min, model)"
   ]
  },
  {
   "cell_type": "markdown",
   "metadata": {},
   "source": [
    "### AdaBoost"
   ]
  },
  {
   "cell_type": "code",
   "execution_count": null,
   "metadata": {},
   "outputs": [],
   "source": [
    "model = bulid_AdaBoost_model(X_train1min, y_train1min)\n",
    "model_performance(X_test1min, y_test1min, model) "
   ]
  },
  {
   "cell_type": "markdown",
   "metadata": {},
   "source": [
    "### Extra Improvement \n",
    "#### adding Rolling mean of vwap"
   ]
  },
  {
   "cell_type": "code",
   "execution_count": null,
   "metadata": {},
   "outputs": [],
   "source": [
    "df_10s = dataset.copy()\n",
    "df_10s = update_features(df_10s) \n",
    "df_10s['rolling_vwap'] = df_10s.vwap.rolling(window=10, center=False).mean()\n",
    "df_10s = df_10s.dropna()\n",
    "df_10s.head(10)"
   ]
  },
  {
   "cell_type": "code",
   "execution_count": null,
   "metadata": {},
   "outputs": [],
   "source": [
    "cols = ['date', 'time', 'sym', 'volume', 'vwap', 'lowPx', 'highPx', 'lastBidPx', 'lastAskPx', 'lastBidSz', 'lastAskSz', 'logVolume','clv', 'Imbal', 'rolling_vwap', 'fwdRet1Bps']  \n",
    "df_10s = df_10s[cols]\n",
    "df_10s.head(10)"
   ]
  },
  {
   "cell_type": "code",
   "execution_count": null,
   "metadata": {},
   "outputs": [],
   "source": [
    "df_10s, train_set10s, test_set10s = train_test_split(df_10s)\n",
    "X_train10s, y_train10s, X_test10s, y_test10s = data_preprocess(train_set10s, test_set10s, 11, 15)"
   ]
  },
  {
   "cell_type": "code",
   "execution_count": null,
   "metadata": {},
   "outputs": [],
   "source": [
    "baseline_model_performance(train_set10s, test_set10s)"
   ]
  },
  {
   "cell_type": "code",
   "execution_count": null,
   "metadata": {},
   "outputs": [],
   "source": [
    "model = build_NN_model(X_train10s, y_train10s, 4)\n",
    "NN_performance(X_test10s, test_set10s, model)"
   ]
  },
  {
   "cell_type": "code",
   "execution_count": null,
   "metadata": {},
   "outputs": [],
   "source": [
    "y_train10s = train_set10s['pxDir1'].values.tolist()\n",
    "model = bulid_LR_model(X_train10s, y_train10s)\n",
    "y_test10s = test_set10s['pxDir1']\n",
    "model_performance(X_test10s, y_test10s, model)"
   ]
  },
  {
   "cell_type": "code",
   "execution_count": null,
   "metadata": {},
   "outputs": [],
   "source": [
    "df_10s = dataset.copy()\n",
    "df_10s = update_features(df_10s) \n",
    "df_10s['volumn_diff'] = df_10s.volume.diff()\n",
    "df_10s = df_10s.dropna()\n",
    "df_10s.head(10)"
   ]
  },
  {
   "cell_type": "code",
   "execution_count": null,
   "metadata": {},
   "outputs": [],
   "source": [
    "cols = ['date', 'time', 'sym', 'volume', 'vwap', 'lowPx', 'highPx', 'lastBidPx', 'lastAskPx', 'lastBidSz', 'lastAskSz', 'logVolume','clv', 'Imbal', 'volumn_diff', 'fwdRet1Bps']  \n",
    "df_10s = df_10s[cols]\n",
    "df_10s.head(10)"
   ]
  },
  {
   "cell_type": "code",
   "execution_count": null,
   "metadata": {},
   "outputs": [],
   "source": [
    "df_10s, train_set10s, test_set10s = train_test_split(df_10s)\n",
    "X_train10s, y_train10s, X_test10s, y_test10s = data_preprocess(train_set10s, test_set10s, 11, 15)"
   ]
  },
  {
   "cell_type": "code",
   "execution_count": null,
   "metadata": {},
   "outputs": [],
   "source": [
    "y_train10s = train_set10s['pxDir1'].values.tolist()\n",
    "model = bulid_LR_model(X_train10s, y_train10s)\n",
    "y_test10s = test_set10s['pxDir1']\n",
    "model_performance(X_test10s, y_test10s, model)"
   ]
  },
  {
   "cell_type": "code",
   "execution_count": null,
   "metadata": {},
   "outputs": [],
   "source": []
  }
 ],
 "metadata": {
  "anaconda-cloud": {},
  "kernelspec": {
   "display_name": "Python 3",
   "language": "python",
   "name": "python3"
  },
  "language_info": {
   "codemirror_mode": {
    "name": "ipython",
    "version": 3
   },
   "file_extension": ".py",
   "mimetype": "text/x-python",
   "name": "python",
   "nbconvert_exporter": "python",
   "pygments_lexer": "ipython3",
   "version": "3.6.7"
  },
  "varInspector": {
   "cols": {
    "lenName": 16,
    "lenType": 16,
    "lenVar": 40
   },
   "kernels_config": {
    "python": {
     "delete_cmd_postfix": "",
     "delete_cmd_prefix": "del ",
     "library": "var_list.py",
     "varRefreshCmd": "print(var_dic_list())"
    },
    "r": {
     "delete_cmd_postfix": ") ",
     "delete_cmd_prefix": "rm(",
     "library": "var_list.r",
     "varRefreshCmd": "cat(var_dic_list()) "
    }
   },
   "position": {
    "height": "262.667px",
    "left": "313px",
    "right": "20px",
    "top": "123px",
    "width": "800px"
   },
   "types_to_exclude": [
    "module",
    "function",
    "builtin_function_or_method",
    "instance",
    "_Feature"
   ],
   "window_display": false
  }
 },
 "nbformat": 4,
 "nbformat_minor": 2
}
